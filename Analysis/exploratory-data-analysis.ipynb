{
 "cells": [
  {
   "cell_type": "markdown",
   "id": "50f9d8ec",
   "metadata": {},
   "source": [
    "# Exploratory Data Analysis\n",
    "[for ConditionalQA]"
   ]
  },
  {
   "cell_type": "code",
   "execution_count": 1,
   "id": "ca7a0ff1",
   "metadata": {},
   "outputs": [],
   "source": [
    "import json\n",
    "import numpy as np"
   ]
  },
  {
   "cell_type": "code",
   "execution_count": 2,
   "id": "0bc6e758",
   "metadata": {},
   "outputs": [],
   "source": [
    "trainFP = '../ConditionalQA/v1_0/train.json'\n",
    "devFP = '../ConditionalQA/v1_0/dev.json'\n",
    "docFP = '../ConditionalQA/v1_0/documents.json'"
   ]
  },
  {
   "cell_type": "markdown",
   "id": "cac43a0a",
   "metadata": {},
   "source": [
    "## Overall Documents"
   ]
  },
  {
   "cell_type": "code",
   "execution_count": 3,
   "id": "5d64728f",
   "metadata": {},
   "outputs": [
    {
     "name": "stdout",
     "output_type": "stream",
     "text": [
      "There are a total of 652 documents.\n"
     ]
    }
   ],
   "source": [
    "docs = json.load(open(docFP, 'r'))\n",
    "# build a dictionary given the list, using url as key\n",
    "docdict = {d['url']: d for d in docs}\n",
    "print(f\"There are a total of {len(docs)} documents.\")"
   ]
  },
  {
   "cell_type": "code",
   "execution_count": 4,
   "id": "4a7f7475",
   "metadata": {},
   "outputs": [
    {
     "name": "stdout",
     "output_type": "stream",
     "text": [
      "For each document, it encompasses the following keys:\n",
      "\t['title', 'url', 'contents']\n"
     ]
    }
   ],
   "source": [
    "print(f\"For each document, it encompasses the following keys:\\n\"\n",
    "      f\"\\t{list(docs[0].keys())}\")"
   ]
  },
  {
   "cell_type": "markdown",
   "id": "d43d2b39",
   "metadata": {},
   "source": [
    "### average stats"
   ]
  },
  {
   "cell_type": "code",
   "execution_count": 5,
   "id": "bf9e0715",
   "metadata": {
    "scrolled": true
   },
   "outputs": [
    {
     "name": "stdout",
     "output_type": "stream",
     "text": [
      "The average title length (token counts) is: 33.5414 tokens.\n"
     ]
    }
   ],
   "source": [
    "avg_title_len = np.mean([len(d['title']) for d in docs])\n",
    "print(f\"The average title length (token counts) is: {avg_title_len:.4f} tokens.\")"
   ]
  },
  {
   "cell_type": "code",
   "execution_count": 6,
   "id": "df59f591",
   "metadata": {},
   "outputs": [
    {
     "name": "stdout",
     "output_type": "stream",
     "text": [
      "The average content count is: 106.1334 segments.\n",
      "The average content length is: 1311.1258 segments.\n"
     ]
    }
   ],
   "source": [
    "content_cnts = [len(d['contents']) for d in docs]\n",
    "avg_content_cnt = np.mean(content_cnts)\n",
    "\n",
    "content_lens = list()\n",
    "for d in docs:\n",
    "    content_lens.append(sum([len(c.split(' ')) for c in d['contents']]))\n",
    "avg_content_len = np.mean(content_lens)\n",
    "    \n",
    "print(f\"The average content count is: {avg_content_cnt:.4f} segments.\")\n",
    "print(f\"The average content length is: {avg_content_len:.4f} segments.\")"
   ]
  },
  {
   "cell_type": "markdown",
   "id": "634133f9",
   "metadata": {},
   "source": [
    "### polar stats"
   ]
  },
  {
   "cell_type": "code",
   "execution_count": 7,
   "id": "aa205f55",
   "metadata": {},
   "outputs": [
    {
     "name": "stdout",
     "output_type": "stream",
     "text": [
      "For content counts:\n",
      "\tmax=559, min=20\n",
      "For content lengths:\n",
      "\tmax=8868, min=207\n"
     ]
    }
   ],
   "source": [
    "print(\"For content counts:\")\n",
    "print(f\"\\tmax={max(content_cnts)}, min={min(content_cnts)}\")\n",
    "\n",
    "print(\"For content lengths:\")\n",
    "print(f\"\\tmax={max(content_lens)}, min={min(content_lens)}\")"
   ]
  },
  {
   "cell_type": "markdown",
   "id": "5d83ddc5",
   "metadata": {},
   "source": [
    "## Training Set"
   ]
  },
  {
   "cell_type": "code",
   "execution_count": 8,
   "id": "f4590f64",
   "metadata": {
    "scrolled": true
   },
   "outputs": [
    {
     "name": "stdout",
     "output_type": "stream",
     "text": [
      "There are a total of 2338 instances in training set.\n"
     ]
    }
   ],
   "source": [
    "trains = json.load(open(trainFP, 'r'))\n",
    "print(f\"There are a total of {len(trains)}\" + \" instances in training set.\")"
   ]
  },
  {
   "cell_type": "code",
   "execution_count": 9,
   "id": "c92d58fc",
   "metadata": {},
   "outputs": [
    {
     "name": "stdout",
     "output_type": "stream",
     "text": [
      "For each training instance, it encompasses the following keys:\n",
      "\t['url', 'scenario', 'question', 'not_answerable', 'answers', 'evidences', 'id']\n"
     ]
    }
   ],
   "source": [
    "print(f\"For each training instance, it encompasses the following keys:\\n\"\n",
    "      f\"\\t{list(trains[0].keys())}\")"
   ]
  },
  {
   "cell_type": "markdown",
   "id": "24763323",
   "metadata": {},
   "source": [
    "### Typical Examples"
   ]
  },
  {
   "cell_type": "code",
   "execution_count": 10,
   "id": "81faebcb",
   "metadata": {},
   "outputs": [],
   "source": [
    "def print_case(unit):\n",
    "    for k, v in unit.items():\n",
    "        print(f\"{k:<10}: {v}\")\n",
    "    # add the document retrieved from docs\n",
    "    print(f\"document  :\")\n",
    "    for k, v in docdict[unit['url']].items():\n",
    "        print(f\"{' ' * 10}{k:<10}: {v}\")\n",
    "    return True"
   ]
  },
  {
   "cell_type": "markdown",
   "id": "499dca2c",
   "metadata": {},
   "source": [
    "#### a) Not Answerable Question"
   ]
  },
  {
   "cell_type": "code",
   "execution_count": 11,
   "id": "d0f35f68",
   "metadata": {
    "scrolled": true
   },
   "outputs": [
    {
     "name": "stdout",
     "output_type": "stream",
     "text": [
      "url       : https://www.gov.uk/change-cancel-presumption-death-certificate\n",
      "scenario  : My brother died on January 2nd. His death certificate is inaccurate in this respect. I do not know the doctor who signed the original certificate or why the mistake was made\n",
      "question  : Is it possible to have the death certificate changed given that this happened over six months ago?\n",
      "not_answerable: True\n",
      "answers   : []\n",
      "evidences : []\n",
      "id        : train-24\n",
      "document  :\n",
      "          title     : Change or cancel a presumption of death certificate\n",
      "          url       : https://www.gov.uk/change-cancel-presumption-death-certificate\n",
      "          contents  : ['<h1>Overview</h1>', '<p>You can make a claim to cancel (‘revoke’) or change (‘vary’) the details of a declaration of presumed death from the High Court if you can prove the missing person:</p>', '<li>is still alive</li>', '<li>died at a time earlier or later than the time of death in the original declaration</li>', '<p>You can also make a claim if you can prove there are other circumstances that mean the declaration of presumed death should be cancelled or changed.</p>', '<p>The rules are different in Scotland and Northern Ireland.</p>', '<h2>Fees</h2>', '<p>It costs £480 to change or cancel a declaration of presumed death. Read the fees leaflet to find out when you might not have to pay.</p>', '<h2>Make a claim for a declaration of presumed death</h2>', '<p>You can make a claim yourself or use a legal representative.</p>', '<li>Make your claim.</li>', '<li>Advertise your claim in a newspaper.</li>', '<li>Attend a hearing.</li>', '<h1>Make a claim</h1>', '<p>Download and fill in claim form N208.</p>', '<p>You’re known as the ‘claimant’ if you’re making the claim.</p>', '<p>Read the guidance on filling in form N208. Include all the information asked for in ‘claim for variation order’ in your application.</p>', '<p>Send the claim to a court that can hear High Court cases.</p>', '<p>You should include:</p>', '<li>N208 form - one copy for each person named in the form plus a copy for the court</li>', '<li>the claim fee of £480 - make your cheque payable to ‘HM Courts and Tribunals Service’</li>', '<p>The court will stamp your form with an issue date and keep one copy of your N208 form. You’ll get the other copies back, along with ‘acknowledgement of service’ forms and a case number.</p>', '<h2>Send copies of your claim to other people</h2>', '<p>Send a copy of form N208 with an acknowledgment of service form within 7 days of the issue date the court has put on the form to:</p>', '<li>the person who made the original claim</li>', '<li>the missing person’s spouse or civil partner, parents, children and siblings - if none of these are alive, send it to the missing person’s nearest relative</li>', '<li>any other person or organisation who might have an interest, eg an insurance company</li>', '<p>You must advertise your claim in a newspaper within 7 days.</p>', '<h1>Advertise your claim in a newspaper</h1>', '<p>You must advertise your claim in a newspaper local to the missing person’s last known address.</p>', '<p>Place the advert within 7 days of the issue date stamped on the claim form.</p>', '<h2>Use standard text for the advert</h2>', '<p>Use the following text. You’ll need to delete some words and replace others in the square brackets with the right details.</p>', '<h3>Standard text</h3>', '<p>“In the High Court of Justice  [Chancery]     [Family]   Division</p>', '<p>Case number [insert case number]</p>', '<p>In the matter of an application for a declaration of the presumed death of   [insert the missing person’s name].</p>', '<p>A claim has been issued in the High Court of Justice, for a variation of a declaration that   [insert missing person’s name]   whose last known address was   [insert missing person’s address]   is presumed to be dead. Any person having an interest may apply to the court to intervene in the matter.</p>', '<p>If you wish to apply to the court, you should do so at   [court address]   as soon as possible, and if possible within 21 days of the date of this notice. Delay may harm your prospects of being able to intervene.</p>', '<p>(If the claimant is legally represented)   \\n  [Name of the claimant’s legal representative] \\n  [Address of the claimant’s legal representative] \\n  (If the claimant is not legally represented) \\n  [Claimant’s address for service]”</p>', '<p>You’re known as the ‘claimant’ if you’re making the claim.</p>', '<h2>Send a copy to the court</h2>', '<p>Send the court a copy of the newspaper page showing the advertisement. It must arrive at least 5 days before your court hearing.</p>', '<h1>Attend a hearing</h1>', '<p>You’ll have to attend a hearing about your claim with a High Court judge - this should be within 2 months of making your claim.</p>', '<p>Bring any relevant documents.</p>', '<p>Your claim may be challenged by someone who’s received a copy of the claim form or seen the advert.</p>', '<p>At the hearing you might:</p>', '<li>be asked for more information - the court will tell you how to get a court order if someone’s refusing to give you information you need</li>', '<li>be told there has to be another hearing - there may be several hearings before a decision is made</li>', '<p>If the court agrees with your application, you’ll get the order changed or cancelled at the hearing or by letter later.</p>', '<h2>Get a certificate of presumed death</h2>', '<p>Apply to the General Register Office for a certificate of presumed death.</p>', '<p>You can only do this after you have a declaration of presumed death that is not appealed and the time for appealing against the decision has passed.</p>', '<p>You can usually apply for the certificate 21 days after you get the declaration, unless there’s an appeal or an application for permission to appeal the decision.</p>', '<p>The certificate can be used like a normal death certificate, eg to deal with a missing person’s estate.</p>', '<p>It costs £9.25.</p>', '<p>The certificate will state when the missing person is presumed to have died.</p>', '<p>Call the General Register Office to get a certificate.</p>', '<h2>Appeal a decision</h2>', '<p>Call or write to the Civil Appeals Office to appeal against the High Court’s decision.</p>', '<h2>Make a complaint</h2>', '<p>Use the complaints guidance if you’re not happy with the way you’ve been treated.</p>', '<p>You cannot complain about the decision.</p>']\n"
     ]
    }
   ],
   "source": [
    "for t in trains:\n",
    "    if t['not_answerable']:\n",
    "        print_case(t)\n",
    "        break"
   ]
  },
  {
   "cell_type": "markdown",
   "id": "2caf9856",
   "metadata": {},
   "source": [
    "#### b) yes/no question w/o conditions"
   ]
  },
  {
   "cell_type": "code",
   "execution_count": 12,
   "id": "3ddf7106",
   "metadata": {
    "scrolled": true
   },
   "outputs": [
    {
     "name": "stdout",
     "output_type": "stream",
     "text": [
      "url       : https://www.gov.uk/applying-for-probate\n",
      "scenario  : My father, who was a widower and the owner of several large properties in Wales, died recently and apparently intestate. My paternal uncle is applying for probate, but I believe that I have a stronger claim.\n",
      "question  : Do I have a greater right to probate in respect of my late father's estate?\n",
      "not_answerable: False\n",
      "answers   : [['yes', []]]\n",
      "evidences : ['<p>You can apply to become the estate’s administrator if you are 18 or over and you are the most ‘entitled’ inheritor of the deceased’s estate. This is usually the deceased’s closest living relative.</p>', '<p>Relatives are the most entitled inheritors in the following order:</p>', '<li>children (including legally adopted children but not step-children)</li>', '<li>brothers and sisters</li>']\n",
      "id        : train-0\n",
      "document  :\n",
      "          title     : Applying for probate\n",
      "          url       : https://www.gov.uk/applying-for-probate\n",
      "          contents  : ['<h1>Overview</h1>', '<p>Applying for the legal right to deal with someone’s property, money and possessions (their ‘estate’) when they die is called ‘applying for probate’.</p>', '<p>You’ll get a document that allows you to start dealing with the estate. If the person left a will you’ll get either:</p>', '<li>a ‘grant of probate’</li>', '<li>‘letters of administration with will annexed’ (if the will does not name an executor or the named executor is unable to apply)</li>', '<p>If the person did not leave a will, you’ll get ‘letters of administration’.</p>', '<p>This guide and the service are also available in Welsh (Cymraeg).</p>', '<p>The process is different in Scotland and different in Northern Ireland.</p>', '<p>Because of coronavirus (COVID-19), probate applications are taking up to 8 weeks to process.</p>', '<h2>When probate is not needed</h2>', '<p>You may not need probate if the person who died:</p>', '<li>had jointly owned land, property, shares or money - these will automatically pass to the surviving owners</li>', '<li>only had savings or premium bonds</li>', '<p>Contact each asset holder (for example a bank or mortgage company) to find out if you’ll need probate to get access to their assets. Every organisation has its own rules.</p>', '<h1>Who can apply</h1>', '<p>Only certain people can apply for probate to deal with the estate of someone who died. It depends on whether the person who died left a will.</p>', '<p>A will states what should happen to a person’s property and belongings (‘estate’) after they die. It’s usually valid if it’s been signed by the person who made it and 2 witnesses.</p>', '<h2>If there’s a will</h2>', '<p>You can apply for probate if you’re named in the will, or in an update to the will (a ‘codicil’), as an ‘executor’.</p>', '<p>You’ll need the original will and any updates to apply for probate. These must be original documents, not photocopies.</p>', '<p>If you do not want to apply for probate, fill in a form to give up executor rights.</p>', '<p>Find out what to do if you’re an executor.</p>', '<h2>If the person did not leave a will</h2>', '<p>The ‘administrator’ deals with the estate.</p>', '<p>You can apply to become the estate’s administrator if you are 18 or over and you are the most ‘entitled’ inheritor of the deceased’s estate. This is usually the deceased’s closest living relative.</p>', '<p>Relatives are the most entitled inheritors in the following order:</p>', '<li>husband, wife or civil partner (including if they were separated)</li>', '<li>children (including legally adopted children but not step-children)</li>', '<li>grandchildren</li>', '<li>great-grandchildren</li>', '<li>parents</li>', '<li>brothers and sisters</li>', '<li>nieces and nephews</li>', '<li>half-brothers and half-sisters</li>', '<li>half-nieces and half-nephews (the children of the half-brothers and half-sisters of the deceased)</li>', '<li>grandparents</li>', '<li>aunts and uncles</li>', '<li>cousins</li>', '<li>half-aunts and half-uncles (the half-brothers and half-sisters of the deceased’s parent)</li>', '<li>half-cousins (the children of the half-brothers and half-sisters of the deceased’s parent)</li>', '<p>To apply, follow the same steps as applying for probate.</p>', '<p>You’ll receive ‘letters of administration’ to prove you have the legal right to deal with the estate.</p>', '<p>You cannot apply if you’re the partner of the person but were not their spouse or civil partner when they died. You’re not automatically entitled to any of their estate, unless you’re able to make changes to the inheritance.</p>', '<h3>If you do not want to apply</h3>', '<p>If you’re the most entitled inheritor and you do not want to apply to be the administrator, you can either:</p>', '<li>appoint an attorney to act on your behalf - fill in an attorney form or set up a signed enduring power of attorney (EPA) or registered lasting power of attorney (LPA) and get the attorney to send this in with the probate application</li>', '<li>nominate up to 2 people to be the next most entitled inheritor - fill in an ‘intestate’ form and send it to HMCTS Probate</li>', '<h3>Work out who inherits</h3>', '<p>The law decides who inherits the estate if there’s no will. Work out who will inherit.</p>', '<p>You’ll need this information to report the estate’s value and find out if there’s Inheritance Tax to pay.</p>', '<p>Inheritance laws may be different if you live in an EU country.</p>', '<h2>Stopping a probate application</h2>', '<p>If there’s a dispute, you can challenge an application for probate (‘enter a caveat’), before it’s granted.</p>', '<p>Find out how to stop a probate application.</p>', '<h1>If you’re an executor</h1>', '<p>An executor is someone named in a will as responsible for sorting out the estate of the person who’s died.</p>', '<p>The person who died will normally have told you if you’re an executor. You’ll need the original will to apply for probate.</p>', '<h2>Find the original will</h2>', '<p>The person who died should have told all the executors where to find the original will and any updates, for example:</p>', '<li>at their house</li>', '<li>with a probate practitioner, such as a solicitor</li>', '<li>at the Newcastle District Probate Registry - you’ll need the death certificate and evidence you’re the executor</li>', '<p>Get help from a probate practitioner or Citizens Advice if you cannot understand a will or codicil.</p>', '<p>If you cannot find the original will, you’ll need to fill in a lost will form.</p>', '<p>If there’s more than one will, only the most recent will is valid. Do not destroy any copies of earlier wills until you’ve received probate.</p>', '<p>An executor only receives assets if they’re also named as a beneficiary.</p>', '<h2>If there’s more than one executor</h2>', '<p>If more than one person is named as an executor, you must all agree who makes the application for probate.</p>', '<p>Up to 4 executors can be named on the application.</p>', '<p>If only one executor is named on the application they’ll need to prove that they tried to contact all executors named in the will before they applied.</p>', '<p>If you’re having problems finding the other executors, you can contact the Probate Call Centre.</p>', '<p>The Probate Call Centre cannot help with disagreements between executors. You’ll need to find another way to reach an agreement - this could mean getting legal advice.</p>', '<h2>If you do not want to or cannot be an executor</h2>', '<p>The will may name a replacement executor for someone who becomes ‘unwilling or unable’ to deal with the estate.</p>', '<p>If no executors are willing or able to apply for probate, fill in a form to give up executor rights and send it to HMCTS Probate.</p>', '<h3>You do not want to be an executor</h3>', '<p>You can do one of the following:</p>', '<li>completely give up your right to apply for probate (‘renunciation’) - fill in a form to give up executor rights and send it with the probate application form</li>', '<li>reserve your right to apply for probate later if another executor cannot deal with the estate (holding ‘power reserved’)</li>', '<li>appoint an attorney to act on your behalf - fill in an attorney form or set up a signed enduring power of attorney (EPA) or registered lasting power of attorney (LPA) and send it with the probate application</li>', '<h3>When an executor is unable to apply for probate</h3>', '<p>A replacement executor should apply for probate if the executor is unable to, for example because:</p>', '<li>they’ve died</li>', '<li>they do not have ‘mental capacity’ - get a doctor to fill in a mental capacity form and send it with the probate application</li>', '<h1>Apply for probate</h1>', '<p>You can apply for probate yourself online or by post, or pay a probate practitioner (such as a solicitor) to do it for you.</p>', '<p>Because of coronavirus (COVID-19), probate applications are taking up to 8 weeks to process. It’s taking longer to process paper applications than online applications.</p>', '<p>This guide and the service are also available in Welsh (Cymraeg).</p>', '<h2>Before you apply</h2>', '<li>Check if you need probate.</li>', '<li>Check if you can apply for probate.</li>', '<li>You must estimate and report the estate’s value before you apply for probate.</li>', '<li>You must find out whether you need to pay Inheritance Tax. If you do have to pay it, send the appropriate forms to HMRC and wait 20 working days before applying for probate.</li>', '<li>You must have the original will if you’re the executor (you do not need it if you’re an administrator). You must also have the original death certificate or an interim death certificate from the coroner.</li>', '<h3>If you need to pay Inheritance Tax</h3>', '<p>You normally have to pay at least some of the tax before you’ll get probate. You can claim the tax back from the estate, if you pay it out of your own bank account.</p>', '<h3>Probate application fees</h3>', '<p>You may have to pay a fee to apply for probate. Whether you need to pay depends on the value of the estate.</p>', '<p>If the value of the estate is over £5,000, the application fee is £215. You may be able to get help to pay the probate fee and other court fees if you have a low income or are on certain benefits.</p>', '<p>There’s no fee if the estate is £5,000 or less.</p>', '<p>Extra copies of the probate cost £1.50 each. This means you can send them to different organisations at the same time.</p>', '<h3>If the will has been changed or damaged</h3>', '<p>You must include a cover letter if the will or any additions have changed in any way since you’ve had them. This includes them being damaged or separated for photocopying.</p>', '<p>The letter should explain what’s been changed and why.</p>', '<h3>Get help and advice</h3>', '<p>If you’ve not yet applied and have a question about applying for probate, contact the  Courts and Tribunals Service Centre:</p>', '<h2>If you’re a probate practitioner</h2>', '<p>You should apply for probate for your client using the MyHMCTS service. You’ll need to create an account first if you do not have one.</p>', '<h2>Apply for probate online</h2>', '<p>You can use this service if you’re the executor or administrator and you:</p>', '<li>have the original will and any additions to it (‘codicils’) if you’re the executor (you do not need these if you’re an administrator)</li>', '<li>have the original death certificate or an interim death certificate from the coroner</li>', '<li>have already reported the estate’s value</li>', '<li>have submitted tax forms to HMRC and waited 20 working days, if you need to pay Inheritance Tax</li>', '<p>The person who died must have lived in England or Wales most of the time.</p>', '<p>The probate registry will keep the original will and any additions to it. If you make a copy of these for your records, do not remove any staples or bindings from them.</p>', '<p>Apply for probate</p>', '<p>Return to an existing probate application.</p>', '<h2>Apply for probate by post</h2>', '<p>The form you need to fill in depends on whether the person left a will or not.</p>', '<p>Fill in application form PA1P if there is a will.</p>', '<p>Fill in application form PA1A if there is not a will.</p>', '<p>Because of COVID-19, it’s taking longer to process paper applications than online applications. Use the online service to apply for probate if you can.</p>', '<p>You need to pay before you send the form.</p>', '<p>You can pay by either:</p>', '<li>calling the Courts and Tribunals Service Centre to pay by credit or debit card - you’ll be given a reference number to send with your documents</li>', '<li>sending a cheque payable to ‘HM Courts and Tribunals Service’ with your documents</li>', '<p>Send your completed form to HMCTS Probate with the following documents:</p>', '<li>the original will and any additions to it (‘codicils’)</li>', '<li>the death certificate or an interim death certificate from the coroner</li>', '<p>Use a signed-for or tracked postal service that will deliver to PO boxes to send your documents.</p>', '<p>The death certificate will be returned to you but the will and any additions to it will not be. If you make a copy of the will and any of its additions for your own records, do not remove any staples or bindings from them.</p>', \"<h1>After you've applied</h1>\", '<p>You’ll usually get the grant of probate or letters of administration within 8 weeks of sending in your original documents. If you ordered copies of these documents for use outside the UK, these will take longer to arrive.</p>', '<p>Because of coronavirus (COVID-19), it’s taking longer to process paper applications than online applications.</p>', '<p>You should not make any financial plans or put property on the market until you have received the grant of probate or letters of administration.</p>', '<p>If there’s anything wrong with the grant of probate (or letters of administration), return it to the district probate registry listed on the grant or letters.</p>', '<p>Send a copy to organisations that hold the assets of the person who died, for example their bank.</p>', '<p>Once you have probate you can start dealing with the estate.</p>']\n"
     ]
    }
   ],
   "source": [
    "for t in trains:\n",
    "    if {a[0].lower() for a in t['answers']}.intersection({'yes', 'no'}):\n",
    "        print_case(t)\n",
    "        break"
   ]
  },
  {
   "cell_type": "markdown",
   "id": "d8d4927f",
   "metadata": {},
   "source": [
    "#### c) yes/no question w/ conditions"
   ]
  },
  {
   "cell_type": "code",
   "execution_count": 13,
   "id": "0197906c",
   "metadata": {},
   "outputs": [
    {
     "name": "stdout",
     "output_type": "stream",
     "text": [
      "url       : https://www.gov.uk/apply-gender-recognition-certificate\n",
      "scenario  : I was born and raised in Australia. I have changed my gender and got a certificate in Australia. I have moved to UK three years back\n",
      "question  : I would like to know whether I am eligible to apply for Gender Recognition Certificate in UK ?\n",
      "not_answerable: False\n",
      "answers   : [['yes', ['<p>You must be 18 or over.</p>']]]\n",
      "evidences : ['<p>Apply by the overseas route if your acquired gender has been legally accepted in an ‘approved country or territory’ and you have documents to prove it.</p>', '<p>You must be 18 or over.</p>', '<tr>Overseas route | Form T453 | Leaflet T454</tr>', '<p>If you’re applying using the overseas route, you must prove that your gender has been legally recognised in an ‘approved country or territory’. Send original or certified copies of the following (if you have them):</p>']\n",
      "id        : train-1\n",
      "document  :\n",
      "          title     : Apply for a Gender Recognition Certificate\n",
      "          url       : https://www.gov.uk/apply-gender-recognition-certificate\n",
      "          contents  : ['<h1>Overview</h1>', '<p>Apply to the Gender Recognition Panel for a Gender Recognition Certificate if you want your acquired gender to be legally recognised in the UK.</p>', '<p>There are 3 different ways (‘routes’) to get a certificate - which one you use depends on your situation.</p>', '<p>Read the full guidance before you apply.</p>', '<h2>Standard route</h2>', '<p>Apply by the standard route if all the following are true:</p>', '<li>you’re 18 or over</li>', '<li>you’ve been diagnosed with gender dysphoria (discomfort with your birth gender) - this is also called gender identity disorder, gender incongruence or transsexualism</li>', '<li>you’ve lived in your acquired gender for at least 2 years</li>', '<li>you intend to live in your acquired gender for the rest of your life</li>', '<h2>Alternative route</h2>', '<p>Apply by the alternative route if all the following are true:</p>', '<li>you’re 18 or over</li>', '<li>you’ve been diagnosed with gender dysphoria or had surgery to change your sexual characteristics</li>', '<li>you live in England, Wales, Northern Ireland or Scotland most of the time</li>', '<li>you intend to live in your acquired gender for the rest of your life</li>', '<li>you’re in (or have been in) a protected marriage or protected civil partnership before 10 December 2014 (16 December 2014 for Scottish marriages and civil partnerships)</li>', '<li>you’ve lived in your acquired gender for at least 6 years before 10 December 2014 (16 December 2014 for Scottish marriages and civil partnerships)</li>', '<p>A marriage or civil partnership is protected if it’s one of the following:</p>', '<li>registered under the law of England, Wales or Northern Ireland</li>', '<li>a marriage solemnised in Scotland</li>', '<li>a civil partnership registered in Scotland</li>', '<li>a marriage registered under the law of a country or territory outside the UK</li>', '<li>a marriage on UK consular premises or in an armed forces base, if you elected England, Wales, Northern Ireland or Scotland as the relevant part of the UK</li>', '<h2>Overseas route</h2>', '<p>Apply by the overseas route if your acquired gender has been legally accepted in an ‘approved country or territory’ and you have documents to prove it.</p>', '<p>You must be 18 or over.</p>', '<h2>Help you can get</h2>', '<p>You can get information, advice and support from a number of voluntary organisations - you can find a list on page 21 of the full guidance.</p>', '<p>You can also contact Citizens Advice or find a legal adviser.</p>', \"<h1>If you're married or in a civil partnership</h1>\", '<h2>If you’re married</h2>', '<p>You can stay married if you apply for a Gender Recognition Certificate.</p>', '<p>You and your spouse must fill in a statutory declaration saying you both agree to stay married.</p>', '<p>You’ll get an ‘interim certificate’ if you or your spouse do not want to remain married, or if your spouse does not fill in a statutory declaration. You can use the interim certificate as grounds to end the marriage.</p>', '<p>If your marriage is registered in England, Wales or Northern Ireland and you have an interim certificate, you’ll only get a full certificate once you end your marriage.</p>', '<p>If your marriage was registered in Scotland, you can use an interim certificate to apply to the sheriff court for a full certificate. You do not need to end your marriage first.</p>', '<p>Contact the administrative team at the Gender Recognition Panel if either you or your spouse change your mind about staying married during the application process.</p>', '<h2>If you’re in a civil partnership</h2>', '<p>You can stay in your civil partnership if it was registered in England, Wales or Northern Ireland.</p>', '<p>Your partner must fill in a statutory declaration saying they agree to stay in a civil partnership with you. Contact the Gender Recognition Panel for help with filling in the declaration.</p>', '<p>You’ll get an ‘interim certificate’ if your partner does not fill in a statutory declaration.</p>', '<h3>Civil partnerships registered in Scotland</h3>', '<p>If your civil partnership was registered in Scotland, you must end it or convert your civil partnership to marriage.</p>', '<p>If you decide to convert your civil partnership into a marriage you must do it before you apply to the Gender Recognition Panel.</p>', '<p>If you’re still in a civil partnership when you apply to the Gender Recognition Panel, you’ll get an ‘interim certificate’. You must end the civil partnership before you can get a full certificate.</p>', '<h1>How to apply</h1>', '<p>Download and fill in the right form for your application.</p>', '<tr> | Form | Guidance</tr>', '<tr>Standard route | Form T450 | Leaflet T451</tr>', '<tr>Alternative route | Form T464 | Leaflet T465</tr>', '<tr>Overseas route | Form T453 | Leaflet T454</tr>', '<p>Send the completed form with your fee and any supporting documents relevant to your application.</p>', '<h2>Fees</h2>', '<p>It costs £5 to apply. You can apply for help paying the fee if you’re getting certain benefits or on a low income.</p>', '<h2>Get help with your application</h2>', '<p>Contact the administrative team at the Gender Recognition Panel for advice on the application process.</p>', '<h1>Documents you must provide</h1>', '<p>You must send certain documents when you apply, depending on which application route you use and whether you’ve ever been married or in a civil partnership.</p>', '<p>You might need to send original documents - you’ll get them back after the Gender Recognition Panel has looked at your application. You will not get any statutory declarations back.</p>', '<p>For all application routes, you must download and fill in the relevant statutory declaration for:</p>', '<li>single people</li>', '<li>married people or civil partners</li>', '<h2>If you’ve ever been married or in a civil partnership</h2>', '<p>For all application routes you must provide the following (if relevant):</p>', '<li>an original or certified copy of your marriage or civil partnership certificate</li>', '<li>a copy of the decree ending your marriage or proof that any previous civil partnership has been dissolved</li>', '<li>a copy of your spouse’s death certificate</li>', '<p>If you want to stay married, your spouse must fill in a statutory declaration for a spouse.</p>', '<h2>Standard or alternative route</h2>', '<p>For all application routes you must send:</p>', '<li>an original or certified copy of your birth certificate</li>', '<li>copies of any official documents that show your birth name has changed to your current name</li>', '<li>proof you’ve lived in your acquired gender for the required time</li>', '<li>any required medical reports</li>', '<p>You need to have lived in your acquired gender for 2 years if applying through the standard route.</p>', '<p>If you’re applying through the alternative route you need to have lived in your acquired gender for 6 years before 10 December 2014, or 16 December 2014 if you’re in Scotland.</p>', '<h3>Proof you’ve lived in your acquired gender</h3>', '<p>This proof must cover the required time that you’ve lived in your acquired gender. It could include copies of your:</p>', '<li>passport</li>', '<li>driving licence</li>', '<li>payslips or benefit documents</li>', '<li>utility bills or other documents of an official nature</li>', '<p>All documents should be in your acquired name and gender. The earliest document must be dated before the beginning of the required time.</p>', '<h3>Medical reports</h3>', '<p>For the standard and alternative application routes you must send a report that includes details of any treatment you’ve had to change your sexual characteristics, for example hormone treatment or surgery.</p>', '<p>The report must be an original copy from a qualified medical professional, for example a:</p>', '<li>doctor registered with the General Medical Council (GMC)</li>', '<li>psychologist registered with the Health and Care Professions Council</li>', '<p>You can ask your GP or surgeon to fill in a report for you if you do not have one already.</p>', '<p>If you have not had any treatment or surgery yet, you must send a report that includes details of any planned treatment or surgery.</p>', '<p>If you are applying by the standard route you must also send a report with details of your gender dysphoria diagnosis.</p>', '<p>Read the list of gender dysphoria specialists to find out who can write this report for you. You can send a report from a registered medical professional not on this list if they can prove they work in gender dysphoria.</p>', '<h2>Overseas route</h2>', '<p>If you’re applying using the overseas route, you must prove that your gender has been legally recognised in an ‘approved country or territory’. Send original or certified copies of the following (if you have them):</p>', '<li>your new birth certificate and old birth certificate</li>', '<li>an amended birth certificate that shows the change of gender</li>', '<li>a court order authorising your change of gender</li>', '<li>a document that’s equivalent to a Gender Recognition Certificate</li>', '<li>an entry in a legal register that proves your acquired gender has been recognised</li>', '<h1>What happens next</h1>', '<p>Your application will be assessed by the Gender Recognition Panel - you’ll be contacted if they need more proof or information.</p>', '<p>Contact the administrative team at the Gender Recognition Panel to find out about your application’s progress.</p>', '<h2>If you get a full certificate</h2>', '<p>You’ll be sent information on:</p>', '<li>how to get a new birth certificate, marriage certificate or civil partnership where appropriate</li>', '<li>who you must tell about your gender change</li>', '<p>Your pension and benefits may be affected.</p>', '<h2>If you’re given an interim certificate</h2>', '<p>You’ll be sent information on:</p>', '<li>how to annul or dissolve your marriage or civil partnership</li>', '<li>how long you have to convert your civil partnership to a marriage, if applicable</li>', '<h2>If your application is turned down</h2>', '<p>You’ll be told why your application was rejected.</p>', '<p>You may be able to appeal the decision if you think it’s wrong on a point of law.</p>', '<p>Where you appeal depends on whether you live in:</p>', '<li>England and Wales - appeal to the High Court Family Division</li>', '<li>Scotland - appeal to the Court of Session in Edinburgh</li>', '<li>Northern Ireland - appeal to the High Court</li>', '<p>You’ll be told in your decision letter how to appeal or apply again.</p>', '<h1>Legislation</h1>', '<p>The Gender Recognition Panel must apply the law in the Gender Recognition Act 2004 and the following amendments:</p>', '<li>Schedule 5, Section 12 of the Marriage (Same Sex Couples) Act 2013</li>', '<li>Part 4 of the Marriage and Civil Partnership (Scotland) Act 2014</li>']\n"
     ]
    }
   ],
   "source": [
    "found = False\n",
    "for t in trains:\n",
    "    ans = t['answers']\n",
    "    for a in ans:\n",
    "        if a[0] in {'yes', 'no'} and len(a[1]):\n",
    "            print_case(t)\n",
    "            found = True\n",
    "    if found:\n",
    "        break"
   ]
  },
  {
   "cell_type": "markdown",
   "id": "b863cac1",
   "metadata": {},
   "source": [
    "#### d) extractive question w/o conditions"
   ]
  },
  {
   "cell_type": "code",
   "execution_count": 14,
   "id": "0e1e0a7a",
   "metadata": {
    "scrolled": true
   },
   "outputs": [
    {
     "name": "stdout",
     "output_type": "stream",
     "text": [
      "url       : https://www.gov.uk/paternity-pay-leave\n",
      "scenario  : I'm 28, and have worked full-time for my current employer for just over 3 years. My wife is expecting our first child in a few months, and I intend to claim paid Paternity Leave when the baby is born.\n",
      "question  : How much notice am I required to give my employer with regards to the starting date of my leave period?\n",
      "not_answerable: False\n",
      "answers   : [['at least 15 weeks before the baby is due', []]]\n",
      "evidences : ['<p>At least 15 weeks before the baby is due, tell your employer:</p>']\n",
      "id        : train-2\n",
      "document  :\n",
      "          title     : Paternity pay and leave\n",
      "          url       : https://www.gov.uk/paternity-pay-leave\n",
      "          contents  : ['<h1>Overview</h1>', '<p>When you take time off because your partner’s having a baby, adopting a child or having a baby through a surrogacy arrangement you might be eligible for:</p>', '<li>1 or 2 weeks’ paid Paternity Leave</li>', '<li>Paternity Pay</li>', '<li>Shared Parental Leave and Pay</li>', '<p>You may not get both leave and pay, and there are rules on how to claim and when your leave can start.</p>', '<h2>Employment rights when on leave</h2>', '<p>Your employment rights are protected while on paternity leave. This includes your right to:</p>', '<li>pay rises</li>', '<li>build up (accrue) holiday</li>', '<li>return to work</li>', '<p>You can get time off to accompany your partner (or the surrogate mother) to 2 antenatal appointments.</p>', '<p>If you’re adopting a child, you can get time off to attend 2 adoption appointments after you’ve been matched with a child.</p>', '<h1>Leave</h1>', '<h2>Paternity leave</h2>', '<p>You can choose to take either 1 or 2 weeks. You get the same amount of leave if your partner has a multiple birth (such as twins).</p>', '<p>You must take your leave in one go. A week is the same amount of days that you normally work in a week - for example, a week is 2 days if you only work on Mondays and Tuesdays.</p>', '<h3>Start and end dates</h3>', '<p>Leave cannot start before the birth. It must end within 56 days of the birth (or due date if the baby is early).</p>', '<p>You must give your employer 28 days’ notice if you want to change your start date.</p>', '<p>You do not have to give a precise date when you want to take leave (for example 1 February). Instead you can give a general time, such as the day of the birth or 1 week after the birth.</p>', '<p>The rules are different if you adopt.</p>', '<h2>Shared Parental Leave</h2>', '<p>You may also be eligible for Shared Parental Leave (SPL). You cannot take Paternity Leave after you take SPL.</p>', '<h2>Leave for antenatal appointments</h2>', '<p>You can take unpaid leave to accompany a pregnant woman to 2 antenatal appointments if you’re:</p>', '<li>the baby’s father</li>', '<li>the expectant mother’s spouse or civil partner</li>', '<li>in a long-term relationship with the expectant mother</li>', '<li>the intended parent (if you’re having a baby through a surrogacy arrangement)</li>', '<p>You can take up to 6 and a half hours per appointment. Your employer can choose to give you longer.</p>', '<p>You can apply for leave immediately if you’re a permanent employee. You’ll need to have been doing a job for 12 weeks before you qualify if you’re an agency worker.</p>', '<h1>Pay</h1>', '<p>The statutory weekly rate of Paternity Pay is £151.97, or 90% of your average weekly earnings (whichever is lower).</p>', '<p>Any money you get is paid in the same way as your wages, for example monthly or weekly. Tax and National Insurance will be deducted.</p>', '<h2>Start and end dates</h2>', '<p>The money is usually paid while you’re on leave. Your employer must confirm the start and end dates for your Paternity Pay when you claim it.</p>', '<p>To change the start date you must give your employer 28 days’ notice.</p>', '<p>You could get more pay if your employer has a company paternity scheme - they cannot offer you less than the statutory amounts.</p>', '<h1>Eligibility</h1>', '<p>You must be taking time off to look after the child and be one of the following:</p>', '<li>the father</li>', '<li>the husband or partner of the mother (or adopter) - this includes same-sex partners</li>', '<li>the child’s adopter</li>', '<li>the intended parent (if you’re having a baby through a surrogacy arrangement)</li>', '<p>There are extra conditions you need to meet to qualify for leave and pay.</p>', '<p>You cannot get Paternity Pay and Leave if you’ve taken paid time off to attend adoption appointments.</p>', '<h2>Paternity Leave</h2>', '<p>You must:</p>', '<li>be an employee</li>', '<li>give the correct notice</li>', '<li>have been continuously employed by your employer for at least 26 weeks up to any day in the ‘qualifying week’</li>', '<p>The ‘qualifying week’ is the 15th week before the baby is due. This is different if you adopt.</p>', '<h2>Paternity Pay</h2>', '<p>You must:</p>', '<li>be employed by your employer up to the date of birth</li>', '<li>earn at least £120 a week (before tax)</li>', '<li>give the correct notice</li>', '<li>have been continuously employed by your employer for at least 26 weeks up to any day in the ‘qualifying week’</li>', '<p>The ‘qualifying week’ is the 15th week before the baby is due. This is different if you adopt.</p>', '<p>If you usually earn an average of £120 or more a week, and you only earned less in some weeks because you were paid but not working (‘on furlough’) under the Coronavirus Job Retention Scheme, you may still be eligible.</p>', '<h2>If you lose your baby</h2>', '<p>You can still get Paternity Leave or Pay if your baby is:</p>', '<li>stillborn from 24 weeks of pregnancy</li>', '<li>born alive at any point during the pregnancy</li>', '<h2>If you’re not eligible</h2>', '<p>Your employer must tell you within 28 days if you do not qualify and why using form SPP1.</p>', '<h1>How to claim</h1>', '<p>Claim Paternity Leave and Pay through your employer. You do not need to give proof of the pregnancy or birth.</p>', '<p>The rules and forms are different if you adopt.</p>', '<h2>Paternity Leave</h2>', '<p>At least 15 weeks before the baby is due, tell your employer:</p>', '<li>the due date</li>', '<li>when you want your leave to start, for example the day of the birth or the week after the birth</li>', '<li>if you want 1 or 2 weeks’ leave</li>', '<p>Your employer can ask for this in writing. You can ask for Paternity Pay at the same time, if you use form SC3 (or your employer’s own version).</p>', '<p>Use the paternity planner to find out when you need to claim Paternity Leave by.</p>', '<h2>Paternity Pay</h2>', '<p>At least 15 weeks before the baby is due, give your employer form SC3 (or their own version).</p>', '<h1>Adoption and surrogacy</h1>', '<h2>Eligibility</h2>', '<p>You must have been continuously employed by your employer for at least 26 weeks by the ‘matching week’. For adoption this is either:</p>', '<li>the end of the week you’re matched with the child (UK adoptions)</li>', '<li>the date the child enters the UK or when you want your pay to start (overseas adoptions)</li>', '<p>You must also meet the other eligibility conditions for paternity leave or pay.</p>', '<h2>Start and end dates - Paternity Leave</h2>', '<p>Your period of Paternity Leave can start:</p>', '<li>on the date of placement</li>', '<li>an agreed number of days after the date of placement</li>', '<li>on the date the child arrives in the UK or an agreed number of days after this (overseas adoptions only)</li>', '<li>the day the child’s born or the day after if you’re working that day (surrogate parents)</li>', '<p>Leave must be taken within 56 days of the date of placement or the child’s arrival in the UK (overseas adoptions).</p>', '<p>You must give your employer 28 days’ notice if you want to change your start date.</p>', '<h2>How to claim - Paternity Leave or Pay</h2>', '<p>You must use form SC4 (or your employer’s own version) for:</p>', '<li>leave - within 7 days of your co-adopter or partner being matched with a child</li>', '<li>pay - 28 days before you want your pay to start</li>', '<p>For overseas adoptions the form and notice period is different. The process is explained on form SC5.</p>', '<h2>Proof of adoption</h2>', '<p>You must give your employer proof of adoption to qualify for Paternity Pay. Proof is not needed for Paternity Leave unless your employer asks for it.</p>', '<p>Proof can be a letter from your adoption agency or the matching certificate.</p>', '<p>You’ll need to provide this information within 28 days.</p>', '<h2>Surrogacy arrangements</h2>', '<p>To be eligible for Paternity Pay and Leave if you use a surrogate to have a baby, you must:</p>', '<li>be in a couple</li>', '<li>be responsible for the child (with your partner)</li>', '<li>have worked for your employer continuously for at least 26 weeks by the end of the ‘qualifying week’ (the 15th week before the baby is due)</li>', '<p>At least 15 weeks before the due date, tell your employer when the baby is due and when you want to start your leave  - they may ask for this in writing.</p>', '<p>Your employer may ask for a written statement to confirm you intend to apply for a parental order in the 6 months after the child’s birth. You must sign this in the presence of a legal professional.</p>', '<p>You cannot get Paternity Leave if you take Shared Parental Leave.</p>']\n"
     ]
    }
   ],
   "source": [
    "found = False\n",
    "for t in trains:\n",
    "    ans, evi = t['answers'], t['evidences']\n",
    "    for e in evi:\n",
    "        for a in ans:\n",
    "            if a[0] not in {'yes', 'no'} and len(a[1]) == 0 and a[0].lower() in e.lower():\n",
    "                print_case(t)\n",
    "                found = True\n",
    "    if found:\n",
    "        break"
   ]
  },
  {
   "cell_type": "markdown",
   "id": "466584f0",
   "metadata": {},
   "source": [
    "#### e) extractive question w/ conditions"
   ]
  },
  {
   "cell_type": "code",
   "execution_count": 15,
   "id": "fc89dc06",
   "metadata": {},
   "outputs": [
    {
     "name": "stdout",
     "output_type": "stream",
     "text": [
      "url       : https://www.gov.uk/make-will\n",
      "scenario  : I have written a will with a help of a solicitor before six years and I have lot of changes in my assets and I am planning to make some changes to my will\n",
      "question  : Can I make changes to my will once I have signed ? what is the process to amend a will ?\n",
      "not_answerable: False\n",
      "answers   : [['make a new will', ['<p>For major changes you should make a new will.</p>']], ['making an official alteration called a codicil', ['<p>You cannot amend your will after it’s been signed and witnessed. The only way you can change a will is by making an official alteration called a codicil.</p>']], ['follow the same signing and witnessing process', []]]\n",
      "evidences : ['<p>If you want to update your will, you need to make an official alteration (called a ‘codicil’) or make a new will.</p>', '<p>If you make any changes to your will you must follow the same signing and witnessing process.</p>', '<p>You cannot amend your will after it’s been signed and witnessed. The only way you can change a will is by making an official alteration called a codicil.</p>', '<p>For major changes you should make a new will.</p>']\n",
      "id        : train-6\n",
      "document  :\n",
      "          title     : Making a will\n",
      "          url       : https://www.gov.uk/make-will\n",
      "          contents  : ['<h1>Overview</h1>', '<p>Your will lets you decide what happens to your money, property and possessions after your death.</p>', '<p>If you make a will you can also make sure you do not pay more Inheritance Tax than you need to.</p>', '<p>You can write your will yourself, but you should get advice if your will is not straightforward.</p>', '<p>You need to get your will formally witnessed and signed to make it legally valid.</p>', '<p>If you want to update your will, you need to make an official alteration (called a ‘codicil’) or make a new will.</p>', '<p>If you die without a will, the law decides who gets what.</p>', '<h1>Write your will</h1>', '<p>Your will should set out:</p>', '<li>who you want to benefit from your will</li>', '<li>who should look after any children under 18</li>', '<li>who is going to sort out your estate and carry out your wishes after your death (your executor)</li>', '<li>what happens if the people you want to benefit die before you</li>', '<p>You can also include a charity in your will.</p>', '<h2>When you need legal advice</h2>', '<p>You can get advice from a professional if your will is not straightforward, for example:</p>', '<li>you share a property with someone who is not your husband, wife or civil partner</li>', '<li>you want to leave money or property to a dependant who cannot care for themselves</li>', '<li>you have several family members who may make a claim on your will, such as a second spouse or children from another marriage</li>', '<li>your permanent home is outside the UK</li>', '<li>you have property overseas</li>', '<li>you have a business</li>', '<h2>Keep your will safe</h2>', '<p>You can keep your will at your home or store it with:</p>', '<li>your solicitor</li>', '<li>your bank</li>', '<li>a company that offers the storage of wills - you can search online</li>', '<li>the London Probate Service</li>', '<p>Read full guidance on storing your will with the Probate\\nService.</p>', '<p>You should tell your executor (the person you’ve chosen to carry out your will), a close friend or relative where your will is.</p>', '<h1>Make sure your will is legal</h1>', '<p>For your will to be legally valid, you must:</p>', '<li>be 18 or over</li>', '<li>make it voluntarily</li>', '<li>be of sound mind</li>', '<li>make it in writing</li>', '<li>sign it in the presence of 2 witnesses who are both over 18</li>', '<li>have it signed by your 2 witnesses, in your presence</li>', '<p>Signing can be witnessed both in person and remotely (for example by video conferencing). In both cases:</p>', '<li>you must have a clear view of the person and the act of signing</li>', '<li>the will maker (or person authorised to sign on their behalf) and witnesses must sign the same document</li>', '<p>You can only sign remotely in England or Wales.</p>', '<p>If you make any changes to your will you must follow the same signing and witnessing process.</p>', '<p>You cannot leave your witnesses (or their married partners) anything in your will.</p>', '<h1>Update your will</h1>', '<p>You should review your will every 5 years and after any major change in your life, for example:</p>', '<li>getting separated or divorced</li>', '<li>getting married (this cancels any will you made before)</li>', '<li>having a child</li>', '<li>moving house</li>', '<li>if the executor named in the will dies</li>', '<h2>Making changes to your will</h2>', '<p>You cannot amend your will after it’s been signed and witnessed. The only way you can change a will is by making an official alteration called a codicil.</p>', '<p>You must sign a codicil and get it witnessed in the same way as witnessing a will.</p>', '<p>There’s no limit on how many codicils you can add to a will.</p>', '<h2>Making a new will</h2>', '<p>For major changes you should make a new will.</p>', '<p>Your new will should explain that it revokes (officially cancels) all previous wills and codicils. You should destroy your old will by burning it or tearing it up.</p>']\n",
      "url       : https://www.gov.uk/make-will\n",
      "scenario  : I have written a will with a help of a solicitor before six years and I have lot of changes in my assets and I am planning to make some changes to my will\n",
      "question  : Can I make changes to my will once I have signed ? what is the process to amend a will ?\n",
      "not_answerable: False\n",
      "answers   : [['make a new will', ['<p>For major changes you should make a new will.</p>']], ['making an official alteration called a codicil', ['<p>You cannot amend your will after it’s been signed and witnessed. The only way you can change a will is by making an official alteration called a codicil.</p>']], ['follow the same signing and witnessing process', []]]\n",
      "evidences : ['<p>If you want to update your will, you need to make an official alteration (called a ‘codicil’) or make a new will.</p>', '<p>If you make any changes to your will you must follow the same signing and witnessing process.</p>', '<p>You cannot amend your will after it’s been signed and witnessed. The only way you can change a will is by making an official alteration called a codicil.</p>', '<p>For major changes you should make a new will.</p>']\n",
      "id        : train-6\n",
      "document  :\n",
      "          title     : Making a will\n",
      "          url       : https://www.gov.uk/make-will\n",
      "          contents  : ['<h1>Overview</h1>', '<p>Your will lets you decide what happens to your money, property and possessions after your death.</p>', '<p>If you make a will you can also make sure you do not pay more Inheritance Tax than you need to.</p>', '<p>You can write your will yourself, but you should get advice if your will is not straightforward.</p>', '<p>You need to get your will formally witnessed and signed to make it legally valid.</p>', '<p>If you want to update your will, you need to make an official alteration (called a ‘codicil’) or make a new will.</p>', '<p>If you die without a will, the law decides who gets what.</p>', '<h1>Write your will</h1>', '<p>Your will should set out:</p>', '<li>who you want to benefit from your will</li>', '<li>who should look after any children under 18</li>', '<li>who is going to sort out your estate and carry out your wishes after your death (your executor)</li>', '<li>what happens if the people you want to benefit die before you</li>', '<p>You can also include a charity in your will.</p>', '<h2>When you need legal advice</h2>', '<p>You can get advice from a professional if your will is not straightforward, for example:</p>', '<li>you share a property with someone who is not your husband, wife or civil partner</li>', '<li>you want to leave money or property to a dependant who cannot care for themselves</li>', '<li>you have several family members who may make a claim on your will, such as a second spouse or children from another marriage</li>', '<li>your permanent home is outside the UK</li>', '<li>you have property overseas</li>', '<li>you have a business</li>', '<h2>Keep your will safe</h2>', '<p>You can keep your will at your home or store it with:</p>', '<li>your solicitor</li>', '<li>your bank</li>', '<li>a company that offers the storage of wills - you can search online</li>', '<li>the London Probate Service</li>', '<p>Read full guidance on storing your will with the Probate\\nService.</p>', '<p>You should tell your executor (the person you’ve chosen to carry out your will), a close friend or relative where your will is.</p>', '<h1>Make sure your will is legal</h1>', '<p>For your will to be legally valid, you must:</p>', '<li>be 18 or over</li>', '<li>make it voluntarily</li>', '<li>be of sound mind</li>', '<li>make it in writing</li>', '<li>sign it in the presence of 2 witnesses who are both over 18</li>', '<li>have it signed by your 2 witnesses, in your presence</li>', '<p>Signing can be witnessed both in person and remotely (for example by video conferencing). In both cases:</p>', '<li>you must have a clear view of the person and the act of signing</li>', '<li>the will maker (or person authorised to sign on their behalf) and witnesses must sign the same document</li>', '<p>You can only sign remotely in England or Wales.</p>', '<p>If you make any changes to your will you must follow the same signing and witnessing process.</p>', '<p>You cannot leave your witnesses (or their married partners) anything in your will.</p>', '<h1>Update your will</h1>', '<p>You should review your will every 5 years and after any major change in your life, for example:</p>', '<li>getting separated or divorced</li>', '<li>getting married (this cancels any will you made before)</li>', '<li>having a child</li>', '<li>moving house</li>', '<li>if the executor named in the will dies</li>', '<h2>Making changes to your will</h2>', '<p>You cannot amend your will after it’s been signed and witnessed. The only way you can change a will is by making an official alteration called a codicil.</p>', '<p>You must sign a codicil and get it witnessed in the same way as witnessing a will.</p>', '<p>There’s no limit on how many codicils you can add to a will.</p>', '<h2>Making a new will</h2>', '<p>For major changes you should make a new will.</p>', '<p>Your new will should explain that it revokes (officially cancels) all previous wills and codicils. You should destroy your old will by burning it or tearing it up.</p>']\n",
      "url       : https://www.gov.uk/make-will\n",
      "scenario  : I have written a will with a help of a solicitor before six years and I have lot of changes in my assets and I am planning to make some changes to my will\n",
      "question  : Can I make changes to my will once I have signed ? what is the process to amend a will ?\n",
      "not_answerable: False\n",
      "answers   : [['make a new will', ['<p>For major changes you should make a new will.</p>']], ['making an official alteration called a codicil', ['<p>You cannot amend your will after it’s been signed and witnessed. The only way you can change a will is by making an official alteration called a codicil.</p>']], ['follow the same signing and witnessing process', []]]\n",
      "evidences : ['<p>If you want to update your will, you need to make an official alteration (called a ‘codicil’) or make a new will.</p>', '<p>If you make any changes to your will you must follow the same signing and witnessing process.</p>', '<p>You cannot amend your will after it’s been signed and witnessed. The only way you can change a will is by making an official alteration called a codicil.</p>', '<p>For major changes you should make a new will.</p>']\n",
      "id        : train-6\n",
      "document  :\n",
      "          title     : Making a will\n",
      "          url       : https://www.gov.uk/make-will\n",
      "          contents  : ['<h1>Overview</h1>', '<p>Your will lets you decide what happens to your money, property and possessions after your death.</p>', '<p>If you make a will you can also make sure you do not pay more Inheritance Tax than you need to.</p>', '<p>You can write your will yourself, but you should get advice if your will is not straightforward.</p>', '<p>You need to get your will formally witnessed and signed to make it legally valid.</p>', '<p>If you want to update your will, you need to make an official alteration (called a ‘codicil’) or make a new will.</p>', '<p>If you die without a will, the law decides who gets what.</p>', '<h1>Write your will</h1>', '<p>Your will should set out:</p>', '<li>who you want to benefit from your will</li>', '<li>who should look after any children under 18</li>', '<li>who is going to sort out your estate and carry out your wishes after your death (your executor)</li>', '<li>what happens if the people you want to benefit die before you</li>', '<p>You can also include a charity in your will.</p>', '<h2>When you need legal advice</h2>', '<p>You can get advice from a professional if your will is not straightforward, for example:</p>', '<li>you share a property with someone who is not your husband, wife or civil partner</li>', '<li>you want to leave money or property to a dependant who cannot care for themselves</li>', '<li>you have several family members who may make a claim on your will, such as a second spouse or children from another marriage</li>', '<li>your permanent home is outside the UK</li>', '<li>you have property overseas</li>', '<li>you have a business</li>', '<h2>Keep your will safe</h2>', '<p>You can keep your will at your home or store it with:</p>', '<li>your solicitor</li>', '<li>your bank</li>', '<li>a company that offers the storage of wills - you can search online</li>', '<li>the London Probate Service</li>', '<p>Read full guidance on storing your will with the Probate\\nService.</p>', '<p>You should tell your executor (the person you’ve chosen to carry out your will), a close friend or relative where your will is.</p>', '<h1>Make sure your will is legal</h1>', '<p>For your will to be legally valid, you must:</p>', '<li>be 18 or over</li>', '<li>make it voluntarily</li>', '<li>be of sound mind</li>', '<li>make it in writing</li>', '<li>sign it in the presence of 2 witnesses who are both over 18</li>', '<li>have it signed by your 2 witnesses, in your presence</li>', '<p>Signing can be witnessed both in person and remotely (for example by video conferencing). In both cases:</p>', '<li>you must have a clear view of the person and the act of signing</li>', '<li>the will maker (or person authorised to sign on their behalf) and witnesses must sign the same document</li>', '<p>You can only sign remotely in England or Wales.</p>', '<p>If you make any changes to your will you must follow the same signing and witnessing process.</p>', '<p>You cannot leave your witnesses (or their married partners) anything in your will.</p>', '<h1>Update your will</h1>', '<p>You should review your will every 5 years and after any major change in your life, for example:</p>', '<li>getting separated or divorced</li>', '<li>getting married (this cancels any will you made before)</li>', '<li>having a child</li>', '<li>moving house</li>', '<li>if the executor named in the will dies</li>', '<h2>Making changes to your will</h2>', '<p>You cannot amend your will after it’s been signed and witnessed. The only way you can change a will is by making an official alteration called a codicil.</p>', '<p>You must sign a codicil and get it witnessed in the same way as witnessing a will.</p>', '<p>There’s no limit on how many codicils you can add to a will.</p>', '<h2>Making a new will</h2>', '<p>For major changes you should make a new will.</p>', '<p>Your new will should explain that it revokes (officially cancels) all previous wills and codicils. You should destroy your old will by burning it or tearing it up.</p>']\n"
     ]
    }
   ],
   "source": [
    "found = False\n",
    "for t in trains:\n",
    "    ans, evi = t['answers'], t['evidences']\n",
    "    for e in evi:\n",
    "        for a in ans:\n",
    "            if a[0] not in {'yes', 'no'} and len(a[1]) > 0 and a[0].lower() in e.lower():\n",
    "                print_case(t)\n",
    "                found = True\n",
    "    if found:\n",
    "        break"
   ]
  },
  {
   "cell_type": "markdown",
   "id": "cc4df136",
   "metadata": {},
   "source": [
    "#### f) mixture of deterministic and conditionals "
   ]
  },
  {
   "cell_type": "code",
   "execution_count": 16,
   "id": "bf9cb49a",
   "metadata": {
    "scrolled": true
   },
   "outputs": [
    {
     "name": "stdout",
     "output_type": "stream",
     "text": [
      "url       : https://www.gov.uk/make-will\n",
      "scenario  : I have written a will with a help of a solicitor before six years and I have lot of changes in my assets and I am planning to make some changes to my will\n",
      "question  : Can I make changes to my will once I have signed ? what is the process to amend a will ?\n",
      "not_answerable: False\n",
      "answers   : [['make a new will', ['<p>For major changes you should make a new will.</p>']], ['making an official alteration called a codicil', ['<p>You cannot amend your will after it’s been signed and witnessed. The only way you can change a will is by making an official alteration called a codicil.</p>']], ['follow the same signing and witnessing process', []]]\n",
      "evidences : ['<p>If you want to update your will, you need to make an official alteration (called a ‘codicil’) or make a new will.</p>', '<p>If you make any changes to your will you must follow the same signing and witnessing process.</p>', '<p>You cannot amend your will after it’s been signed and witnessed. The only way you can change a will is by making an official alteration called a codicil.</p>', '<p>For major changes you should make a new will.</p>']\n",
      "id        : train-6\n",
      "document  :\n",
      "          title     : Making a will\n",
      "          url       : https://www.gov.uk/make-will\n",
      "          contents  : ['<h1>Overview</h1>', '<p>Your will lets you decide what happens to your money, property and possessions after your death.</p>', '<p>If you make a will you can also make sure you do not pay more Inheritance Tax than you need to.</p>', '<p>You can write your will yourself, but you should get advice if your will is not straightforward.</p>', '<p>You need to get your will formally witnessed and signed to make it legally valid.</p>', '<p>If you want to update your will, you need to make an official alteration (called a ‘codicil’) or make a new will.</p>', '<p>If you die without a will, the law decides who gets what.</p>', '<h1>Write your will</h1>', '<p>Your will should set out:</p>', '<li>who you want to benefit from your will</li>', '<li>who should look after any children under 18</li>', '<li>who is going to sort out your estate and carry out your wishes after your death (your executor)</li>', '<li>what happens if the people you want to benefit die before you</li>', '<p>You can also include a charity in your will.</p>', '<h2>When you need legal advice</h2>', '<p>You can get advice from a professional if your will is not straightforward, for example:</p>', '<li>you share a property with someone who is not your husband, wife or civil partner</li>', '<li>you want to leave money or property to a dependant who cannot care for themselves</li>', '<li>you have several family members who may make a claim on your will, such as a second spouse or children from another marriage</li>', '<li>your permanent home is outside the UK</li>', '<li>you have property overseas</li>', '<li>you have a business</li>', '<h2>Keep your will safe</h2>', '<p>You can keep your will at your home or store it with:</p>', '<li>your solicitor</li>', '<li>your bank</li>', '<li>a company that offers the storage of wills - you can search online</li>', '<li>the London Probate Service</li>', '<p>Read full guidance on storing your will with the Probate\\nService.</p>', '<p>You should tell your executor (the person you’ve chosen to carry out your will), a close friend or relative where your will is.</p>', '<h1>Make sure your will is legal</h1>', '<p>For your will to be legally valid, you must:</p>', '<li>be 18 or over</li>', '<li>make it voluntarily</li>', '<li>be of sound mind</li>', '<li>make it in writing</li>', '<li>sign it in the presence of 2 witnesses who are both over 18</li>', '<li>have it signed by your 2 witnesses, in your presence</li>', '<p>Signing can be witnessed both in person and remotely (for example by video conferencing). In both cases:</p>', '<li>you must have a clear view of the person and the act of signing</li>', '<li>the will maker (or person authorised to sign on their behalf) and witnesses must sign the same document</li>', '<p>You can only sign remotely in England or Wales.</p>', '<p>If you make any changes to your will you must follow the same signing and witnessing process.</p>', '<p>You cannot leave your witnesses (or their married partners) anything in your will.</p>', '<h1>Update your will</h1>', '<p>You should review your will every 5 years and after any major change in your life, for example:</p>', '<li>getting separated or divorced</li>', '<li>getting married (this cancels any will you made before)</li>', '<li>having a child</li>', '<li>moving house</li>', '<li>if the executor named in the will dies</li>', '<h2>Making changes to your will</h2>', '<p>You cannot amend your will after it’s been signed and witnessed. The only way you can change a will is by making an official alteration called a codicil.</p>', '<p>You must sign a codicil and get it witnessed in the same way as witnessing a will.</p>', '<p>There’s no limit on how many codicils you can add to a will.</p>', '<h2>Making a new will</h2>', '<p>For major changes you should make a new will.</p>', '<p>Your new will should explain that it revokes (officially cancels) all previous wills and codicils. You should destroy your old will by burning it or tearing it up.</p>']\n"
     ]
    }
   ],
   "source": [
    "found = False\n",
    "for t in trains:\n",
    "    found_det, found_con = False, False\n",
    "    ans = t['answers']\n",
    "    for a in ans:\n",
    "        if len(a[1]) > 0:\n",
    "            found_con = True\n",
    "        if len(a[1]) == 0:\n",
    "            found_det = True\n",
    "        if found_con and found_det:\n",
    "            found = True\n",
    "            break\n",
    "    if found:\n",
    "        print_case(t)\n",
    "        break"
   ]
  },
  {
   "cell_type": "markdown",
   "id": "7eb6f763",
   "metadata": {},
   "source": [
    "## Dev Set"
   ]
  },
  {
   "cell_type": "code",
   "execution_count": 17,
   "id": "0d8d0d7a",
   "metadata": {
    "scrolled": true
   },
   "outputs": [
    {
     "name": "stdout",
     "output_type": "stream",
     "text": [
      "There are a total of 285 instances in development set.\n"
     ]
    }
   ],
   "source": [
    "devs = json.load(open(devFP, 'r'))\n",
    "print(f\"There are a total of {len(devs)}\" + \" instances in development set.\")"
   ]
  },
  {
   "cell_type": "code",
   "execution_count": 18,
   "id": "0a16ef4e",
   "metadata": {
    "scrolled": true
   },
   "outputs": [
    {
     "name": "stdout",
     "output_type": "stream",
     "text": [
      "For each development instance, it encompasses the following keys:\n",
      "\t['url', 'scenario', 'question', 'not_answerable', 'answers', 'evidences', 'id']\n"
     ]
    }
   ],
   "source": [
    "print(f\"For each development instance, it encompasses the following keys:\\n\"\n",
    "      f\"\\t{list(devs[0].keys())}\")"
   ]
  },
  {
   "cell_type": "markdown",
   "id": "e77345ef",
   "metadata": {},
   "source": [
    "#### g) other generated answers"
   ]
  },
  {
   "cell_type": "code",
   "execution_count": 19,
   "id": "5a0b91d0",
   "metadata": {},
   "outputs": [],
   "source": [
    "found = False\n",
    "hit = False\n",
    "for t in trains:\n",
    "    ans, evi = t['answers'], t['evidences']\n",
    "    for a in ans:\n",
    "        if a[0] not in {'yes', 'no'}:\n",
    "            for e in evi:\n",
    "                if a[0].lower() in e.lower():\n",
    "                    hit = True\n",
    "            if not hit:\n",
    "                print_case(t)\n",
    "                break\n",
    "    if found:\n",
    "        break"
   ]
  },
  {
   "cell_type": "markdown",
   "id": "c126e5b1",
   "metadata": {},
   "source": [
    "### Typical Examples"
   ]
  },
  {
   "cell_type": "markdown",
   "id": "3656c40d",
   "metadata": {},
   "source": [
    "#### a) Not Answerable Question"
   ]
  },
  {
   "cell_type": "code",
   "execution_count": 20,
   "id": "31094683",
   "metadata": {
    "scrolled": true
   },
   "outputs": [
    {
     "name": "stdout",
     "output_type": "stream",
     "text": [
      "url       : https://www.gov.uk/financial-help-disabled\n",
      "scenario  : I was injured in an accident at work 6 months ago and now I am unable to work for the rest of my working life due to my injuries.\n",
      "question  : What is the maximum amount of Disability Living Allowance I can claim?\n",
      "not_answerable: True\n",
      "answers   : []\n",
      "evidences : []\n",
      "id        : dev-7\n",
      "document  :\n",
      "          title     : Financial help if you're disabled\n",
      "          url       : https://www.gov.uk/financial-help-disabled\n",
      "          contents  : ['<h1>Overview</h1>', '<p>There is a wide range of disability-related financial support, including benefits, tax credits, payments, grants and concessions.</p>', '<p>Some benefits you might get are:</p>', '<li>Universal Credit</li>', '<li>Personal Independence Payment (PIP) or Disability Living Allowance (DLA)</li>', '<li>Attendance Allowance</li>', '<li>‘new style’ Employment and Support Allowance (ESA)</li>', '<p>Depending on your circumstances, you might also be able to get:</p>', '<li>Industrial Injuries Benefit if you’re disabled as a result of work</li>', '<li>Constant Attendance Allowance if you need daily care and attention because of a disability</li>', '<p>This guide is also available in Welsh (Cymraeg).</p>', '<h2>Vehicles and transport</h2>', '<p>If you’re disabled you can apply for the following:</p>', '<li>exemption from paying vehicle tax</li>', '<li>parking benefits - Blue Badge</li>', '<li>disabled persons bus pass or railcard</li>', '<li>help to buy or lease a car from The Motability Scheme</li>', '<h2>Home and housing</h2>', '<p>If you’ve been assessed by your local council as needing care and support services, you can get:</p>', '<li>Direct payments - allowing you to buy in and arrange help yourself instead of getting it directly from social services</li>', '<li>Disabled Facilities Grants - which is money towards the costs of home adaptations to enable you to continue living there</li>', '<h3>If you’re on a low income</h3>', '<p>You may be eligible for Universal Credit and could get help with housing costs.</p>', '<p>If not, check if you’re eligible for Housing Benefit and Council Tax Reduction from your local council.</p>', '<h2>Help if you’re employed</h2>', '<p>You may be able to top up a low salary by claiming Universal Credit.</p>', '<p>You also might be able to get an Access to Work grant to pay for:</p>', '<li>special equipment, adaptations or support worker services to help you do things like answer the phone or go to meetings</li>', '<li>help getting to and from work</li>', '<li>mental health support</li>', '<li>communication support at a job interview (for example, a British Sign Language interpreter or a lipspeaker)</li>', '<h2>VAT relief on certain goods and services</h2>', '<p>You do not have to pay VAT on certain goods and services if they’re just for your own use and you’re disabled or have a long term illness.</p>', '<h2>Armed forces compensation</h2>', '<p>You may be able to get compensation if you’ve been injured or disabled while serving in the armed forces.</p>', '<h1>Disability and sickness benefits</h1>', '<h2>Disability Living Allowance for children</h2>', '<p>Disability Living Allowance for children (DLA) is a tax-free benefit for children under 16 to help with the extra costs caused by long-term ill health or a disability.</p>', '<h2>Disability Living Allowance for adults</h2>', '<p>Personal Independence Payment is gradually replacing DLA for adults with long-term ill health or a disability. If you’ve reached State Pension age you can apply for Attendance Allowance instead.</p>', '<h2>Personal Independence Payment</h2>', '<p>Personal Independence Payment (PIP) is a tax-free benefit for people aged 16 or over who have not reached State Pension age. It can help with the extra costs caused by long term ill-health or a disability.</p>', '<h2>Attendance Allowance</h2>', '<p>Attendance Allowance is a tax-free benefit for people who are State Pension age or over, have a disability and need someone to help look after them.</p>', '<h2>Employment and Support Allowance</h2>', '<p>You may be able to get ‘new style’ Employment and Support Allowance (ESA) if you cannot work because of illness or disability.</p>', '<h2>Carers</h2>', '<p>Carer’s Allowance is extra money to help you look after someone with substantial caring needs.</p>', '<p>You could also get Carer’s Credit so there will not be any gaps in your National Insurance record if you have to take on caring responsibilities.</p>', '<h1>Vehicles and transport</h1>', '<p>You’ll need to meet the legal obligations for drivers before you can drive.</p>', '<h2>Blue Badge parking scheme</h2>', '<p>The Blue Badge scheme provides a range of parking benefits for disabled people with severe walking difficulties who travel either as drivers or as passengers.</p>', '<h2>Vehicle tax exemption</h2>', '<h3>Eligibility</h3>', '<p>You can apply for exemption from paying vehicle tax if you get the:</p>', '<li>higher rate mobility component of Disability Living Allowance (DLA)</li>', '<li>enhanced rate mobility component of Personal Independence Payment (PIP)</li>', '<li>War Pensioners’ Mobility Supplement</li>', '<li>Armed Forces Independence Payment</li>', '<p>The vehicle must be registered in the disabled person’s name or their nominated driver’s name.</p>', '<p>It must only be used for the disabled person’s personal needs. It cannot be used by the nominated driver for their own personal use.</p>', '<p>You can only have one vehicle tax exemption at any one time.</p>', '<h3>How to claim</h3>', '<p>You claim the exemption when you apply for vehicle tax.</p>', '<p>If you’re claiming for a vehicle for the first time, you have to claim at a Post Office. You must do this every time you change your vehicle.</p>', '<h2>Vehicle tax reduction</h2>', '<h3>Eligibility</h3>', '<p>You can get a 50% reduction in vehicle tax if you get the PIP standard rate mobility component.</p>', '<p>The vehicle should be registered in the disabled person’s name or their nominated driver’s name.</p>', '<p>You cannot get a reduction for getting the DLA lower rate mobility component.</p>', '<h3>How to claim</h3>', '<p>You must include the following with your application:</p>', '<li>a letter or statement from the Department for Work and Pensions that shows your PIP rate and the dates you’re getting it</li>', '<li>the vehicle log book (V5C)</li>', '<li>a V10 form</li>', '<li>an original MOT or GVT certificate (if your vehicle needs one)</li>', '<li>a cheque or payable order (made out to ‘DVLA, Swansea’) for 50% of the full rate of car tax for the vehicle</li>', '<li>an insurance certificate or cover note (if you live in Northern Ireland)</li>', '<p>Do not send your PIP assessment or any other medical information with your application.</p>', '<p>If you’ve just bought the vehicle and it’s not registered in your name yet, you’ll need to complete a V62 form and include the green ‘new keeper’ slip from the log book with your application.</p>', '<p>Send the documents to:</p>', '<h3>If the vehicle is not registered to you or the nominated driver</h3>', '<p>When you make your application you will need to include a signed letter from the vehicle’s registered keeper. This needs to say:</p>', '<li>how they know you</li>', '<li>how the vehicle will be used, for example picking up your prescription or shopping</li>', '<h2>The Motability Scheme</h2>', '<p>The Motability Scheme can help you with leasing a car, powered wheelchair or scooter. You’ll need to be getting one of the following:</p>', '<li>the higher rate of the mobility component of DLA</li>', '<li>War Pensioners’ Mobility Supplement</li>', '<li>Armed Forces Independence Payment</li>', '<li>the enhanced rate of the mobility component of PIP</li>', '<h2>VAT relief for vehicles</h2>', '<p>You may not have to pay VAT on having a vehicle adapted to suit your condition, or on the lease of a Motability vehicle - this is known as VAT relief.</p>', '<h2>Community and public transport</h2>', '<p>Your local council may operate dial-a-ride or taxi schemes, for example, using vouchers or tokens. You may also be eligible for a bus pass, a Disabled Persons Railcard or both.</p>', '<h1>Home and housing</h1>', '<h2>Direct Payments - arranging your own care and services</h2>', '<p>If you’ve been assessed by your local council as needing care and support services, you may want to choose Direct Payments. They allow you to buy in and arrange help yourself instead of receiving it directly from your local council.</p>', '<h2>Disabled Facilities Grants</h2>', '<p>Disabled Facilities Grants are local council grants. It helps towards the cost of essential adaptations to your home to enable you to continue to live there.</p>', '<h2>Council Tax Disabled Band Reduction Scheme</h2>', '<p>You may be entitled to a reduction in your Council Tax bill if your home has certain features that are essential to you living there.</p>', '<p>Contact your local council to apply for Council Tax Disabled Band Reduction.</p>', '<h2>If you’re on a low income</h2>', '<h3>Universal Credit</h3>', '<p>If you’re eligible for Universal Credit you could get help paying for your housing.</p>', '<h3>Housing Benefit</h3>', '<p>Housing Benefit is being replaced by Universal Credit. Most people will need to claim Universal Credit instead.</p>', '<p>Check if you’re eligible for Housing Benefit before you apply.</p>', '<p>You may also get a Council Tax Reduction from your local council.</p>', '<h1>On a low income</h1>', '<h2>Universal Credit</h2>', '<p>You may be able to get Universal Credit if you’re on a low income or out of work.</p>', '<p>Check if you’re eligible for Universal Credit.</p>', '<h2>Jobseeker’s Allowance (JSA)</h2>', '<p>You may be able to claim ‘new style’ JSA.</p>', '<p>You’ll need to have worked as an employee and paid Class 1 National Insurance contributions, usually in the last 2 to 3 years. National Insurance credits can also count.</p>', '<p>You will not be eligible if you were self-employed and only paid Class 2 National Insurance contributions, unless you were working as a share fisherman or a volunteer development worker.</p>', '<p>You’ll also need to take reasonable steps to look for work.</p>', '<p>Check if you’re eligible for ‘new style’ JSA.</p>', '<h2>Blind Person’s Allowance</h2>', '<p>The Blind Person’s Allowance allows you to receive an amount of income without having to pay tax. It’s added to your personal tax allowance.</p>', '<h1>Television licence discount</h1>', '<p>You can get 50% off the cost of your TV licence if either:</p>', '<li>you’re registered blind or severely sight impaired</li>', '<li>you live with someone who is registered blind or severely sight impaired</li>', '<p>If the person who is registered blind is not the current licence holder for your address, you’ll need to transfer the licence to their name.</p>', '<p>You can either:</p>', '<li>transfer the licence online - you’ll need your licence number</li>', '<li>contact TV Licensing to transfer the licence</li>', '<h2>How to apply</h2>', '<p>To claim the TV licence concession for blind people, you’ll need to get a certificate from your local authority or ophthalmologist stating that you are registered blind or severely sight impaired.</p>', '<p>In Northern Ireland, the certificate or document must be issued by or on behalf of a Health and Social Services Trust. On the Isle of Man, it must be issued by or on behalf of the Department for Health and Social Services.</p>', '<p>Post a copy of the certificate along with your licence renewal notice - if you have one - and a cheque or postal order for the licence to:</p>', '<p>Remember to include your name, address, phone number and TV licence number, if you have one.</p>', '<h1>VAT relief for disabled people</h1>', '<p>If you’re disabled or have a long-term illness, you will not be charged VAT on products designed or adapted for your own personal or domestic use. Also, you will not be charged VAT on:</p>', '<li>the installation and any extra work needed as part of this</li>', '<li>repairs or maintenance</li>', '<li>spare parts or accessories</li>', '<p>The product and your disability have to qualify.</p>', '<h2>Qualifying products or services</h2>', '<p>Your supplier can tell you, but usually products designed or adapted for a disability qualify. For example, certain types of:</p>', '<li>adjustable beds</li>', '<li>stair lifts</li>', '<li>wheelchairs</li>', '<li>medical appliances to help with severe injuries</li>', '<li>alarms</li>', '<li>braille paper or low vision aids - but not spectacles or contact lenses</li>', '<li>motor vehicles - or the leasing of a motability vehicle</li>', '<li>building work like ramps, widening doors, installing a lift or toilet</li>', '<h2>How to get the product VAT free</h2>', '<p>To get the product VAT free your disability has to qualify. For VAT purposes, you’re disabled or have a long-term illness if:</p>', '<li>you have a physical or mental impairment that affects your ability to carry out everyday activities, for example blindness</li>', '<li>you have a condition that’s treated as chronic sickness, like diabetes</li>', '<li>you’re terminally ill</li>', '<p>You do not qualify if you’re elderly but not disabled, or if you’re temporarily disabled.</p>', '<p>You’ll need to confirm in writing that you meet these conditions. Your supplier may give you a form for this.</p>', '<h2>Help from your council</h2>', '<p>You can apply to your council for equipment or help to adapt your home if you have a disability.</p>', '<h2>Importing goods</h2>', '<p>You do not pay VAT if you import qualifying goods that are for your own personal or domestic use. This includes certain goods for blind and partially sighted people.</p>', '<p>If you use a freight service they can help you with the paperwork, otherwise make sure the following is written on parcel, ‘Goods for disabled people: relief claimed’.</p>', '<p>If you bring them in yourself, declare them in the red channel at Customs. For any other method of import, contact the National Import Reliefs Unit.</p>', '<h1>Work-related injuries or illness</h1>', '<h2>Industrial Injuries Disablement Benefit</h2>', '<p>You may be entitled to get Industrial Injuries Benefit if you’re disabled as a result of:</p>', '<li>an accident at work</li>', '<li>a disease</li>', '<li>deafness caused by work</li>', '<h2>Constant Attendance Allowance</h2>', '<p>You can claim Constant Attendance Allowance if you need daily care and attention because of a disability and you claim Industrial Injuries Disablement Benefit.</p>', '<h1>Armed forces compensation</h1>', '<p>You can claim for compensation if while serving in the armed forces:</p>', '<li>you got an injury or illness</li>', '<li>an existing condition you had was made worse</li>', '<h2>Constant Attendance Allowance</h2>', '<p>You can also apply for Constant Attendance Allowance if you need daily care for a disability.</p>']\n"
     ]
    }
   ],
   "source": [
    "for d in devs:\n",
    "    if d['not_answerable']:\n",
    "        print_case(d)\n",
    "        break"
   ]
  },
  {
   "cell_type": "markdown",
   "id": "a2904cd5",
   "metadata": {},
   "source": [
    "#### b) yes/no question w/o conditions"
   ]
  },
  {
   "cell_type": "code",
   "execution_count": 21,
   "id": "9869946d",
   "metadata": {
    "scrolled": true
   },
   "outputs": [
    {
     "name": "stdout",
     "output_type": "stream",
     "text": [
      "url       : https://www.gov.uk/apply-special-guardian\n",
      "scenario  : I am a guardian to a 16year old teenage boy from syria whom i cared for when he was young and homeless. I want to change his surname to to mine.\n",
      "question  : Can I apply to change his surname to mine?\n",
      "not_answerable: False\n",
      "answers   : [['yes', ['<p>You’ll need to get the consent of everyone who has parental responsibility for the child before you make some important decisions, for example:</p>', '<p>If you cannot get consent, you can ask the court to decide. Use the form ‘Make an application in existing court proceedings related to children’ (form C2).</p>']]]\n",
      "evidences : ['<p>You’ll need to get the consent of everyone who has parental responsibility for the child before you make some important decisions, for example:</p>', '<li>changing the child’s surname</li>', '<p>If you cannot get consent, you can ask the court to decide. Use the form ‘Make an application in existing court proceedings related to children’ (form C2).</p>']\n",
      "id        : dev-2\n",
      "document  :\n",
      "          title     : Become a special guardian\n",
      "          url       : https://www.gov.uk/apply-special-guardian\n",
      "          contents  : ['<h1>What is a special guardian</h1>', '<p>You can apply to be a child’s special guardian when they cannot live with their birth parents and adoption is not right for them.</p>', '<p>You’ll be responsible for looking after the child until they’re 18 (unless the court takes your responsibility away earlier).</p>', '<p>You’ll make all day to day decisions about the child, for example schooling and medical treatment. You do not have to discuss these decisions with the birth parents.</p>', '<p>You’ll need to get the consent of everyone who has parental responsibility for the child before you make some important decisions, for example:</p>', '<li>changing the child’s surname</li>', '<li>putting the child up for adoption</li>', '<li>taking the child abroad for more than 3 months</li>', '<li>the child having surgery for reasons other than improving health, such as circumcision, sterilisation or cosmetic surgery</li>', '<p>If you cannot get consent, you can ask the court to decide. Use the form ‘Make an application in existing court proceedings related to children’ (form C2).</p>', '<h1>Who can apply</h1>', '<p>You can apply to be a child’s special guardian if you’re not their parent and you’re over 18.</p>', '<p>You can make an application with someone else. This is known as a joint claim.</p>', '<p>You and anyone you’re applying with can apply if:</p>', '<li>you’re already the child’s legal guardian</li>', '<li>the child lives with you because of a child arrangements order</li>', '<li>the child has lived with you for 3 of the past 5 years</li>', '<li>you’re the child’s relative or a foster parent, and the child has been living with you for at least 1 year</li>', '<li>you have the agreement of anyone named in a child arrangements order as someone who the child will live with</li>', '<li>you have the agreement of all the people with parental responsibility for the child</li>', '<li>you have the agreement of the local council, if the child is in care</li>', '<p>If you do not fit one of these descriptions, you’ll need to ask the court’s permission to apply. You’ll need to send the following forms to your local family court:</p>', '<li>‘Make an application in existing court proceedings relating to children’ (form C2)</li>', '<li>‘Family mediation and assessment meeting’ (form FM1)</li>', '<h1>Apply</h1>', '<p>You can use a family mediator to help make arrangements with the child’s family to avoid having to apply to the court.</p>', '<p>It costs £215 to apply to the court. You may be able to get help with court fees if you’re on benefits or a low income.</p>', '<h2>Before you apply</h2>', '<p>Three months before you apply to become a special guardian you need to tell your local council in writing that you plan to make an application.</p>', '<p>You also need to tell anyone named in existing court proceedings or orders about the child that you plan to make an application.</p>', '<h2>Applying to the court</h2>', '<p>Fill in these forms and send them to your local family court:</p>', '<li>an ‘Application for an order’ (form C1)</li>', '<li>a supporting statement (form C13A)</li>', '<li>a ‘Family mediation information and assessment meeting’ form (FM1) to show you’ve been through mediation or why you could not go</li>', '<p>Make copies of your completed forms before you send your application to the court. You’ll need to send these copies to each person affected by the application after you apply.</p>', '<p>Find your local family court.</p>', '<h3>If you want to keep your details private</h3>', '<p>You can apply to keep your and the child’s contact details private throughout the court proceedings.</p>', '<p>Fill in ‘Apply to keep your contact details confidential from other parties in family proceedings’ (form C8) and send it with your application.</p>', '<h1>After you apply</h1>', '<p>Within 10 days of receiving your application the court will send you a case number and a date for a meeting to set out:</p>', '<li>a timetable for your case</li>', '<li>how it will be dealt with</li>', '<p>This meeting is called a ‘first directions hearing’.</p>', '<p>You must go to all hearings you’re told to unless the court excuses you. If you’re not able to go, contact the court office.</p>', '<h2>Contact people in the child’s life</h2>', '<p>You must send the date and location of the hearing along with copies of your application to everyone with parental responsibility for the child.</p>', '<p>If there is a current care order about the child, you should also send details of the hearing and copies of your application to:</p>', '<li>everyone you believe had parental responsibility before the current court-made care order</li>', '<li>the court-appointed Cafcass children’s guardian</li>', '<p>You must also tell the following people and organisations that you’ve applied:</p>', '<li>the children’s services department of your local council or the council local to where the child is staying, if that is different</li>', '<li>everyone who cares for the child</li>', '<li>the home where the child stays if it is a registered children’s home or a voluntary home and it is a refuge</li>', '<li>everyone the child has lived with for at least 3 years before you made the application</li>', '<li>anyone else named in a current court order</li>', '<li>anyone involved in any other ongoing proceedings that might be affected by your application</li>', '<h2>The final hearing</h2>', '<p>The court will decide if a special guardianship order is in the best interests of the child after looking at all the evidence, and in some cases, hearing from witnesses.</p>', '<p>If the court agrees, they will send the final order to you and the other people involved in the case, including the birth parents.</p>', '<h2>Financial help for special guardians</h2>', '<p>You might be able to get a special guardian allowance from the children’s services department of your local council.</p>']\n"
     ]
    }
   ],
   "source": [
    "for d in devs:\n",
    "    if {a[0].lower() for a in d['answers']}.intersection({'yes', 'no'}):\n",
    "        print_case(d)\n",
    "        break"
   ]
  },
  {
   "cell_type": "markdown",
   "id": "1709508d",
   "metadata": {},
   "source": [
    "#### c) yes/no question w/ conditions"
   ]
  },
  {
   "cell_type": "code",
   "execution_count": 22,
   "id": "5a69d501",
   "metadata": {},
   "outputs": [
    {
     "name": "stdout",
     "output_type": "stream",
     "text": [
      "url       : https://www.gov.uk/apply-special-guardian\n",
      "scenario  : I am a guardian to a 16year old teenage boy from syria whom i cared for when he was young and homeless. I want to change his surname to to mine.\n",
      "question  : Can I apply to change his surname to mine?\n",
      "not_answerable: False\n",
      "answers   : [['yes', ['<p>You’ll need to get the consent of everyone who has parental responsibility for the child before you make some important decisions, for example:</p>', '<p>If you cannot get consent, you can ask the court to decide. Use the form ‘Make an application in existing court proceedings related to children’ (form C2).</p>']]]\n",
      "evidences : ['<p>You’ll need to get the consent of everyone who has parental responsibility for the child before you make some important decisions, for example:</p>', '<li>changing the child’s surname</li>', '<p>If you cannot get consent, you can ask the court to decide. Use the form ‘Make an application in existing court proceedings related to children’ (form C2).</p>']\n",
      "id        : dev-2\n",
      "document  :\n",
      "          title     : Become a special guardian\n",
      "          url       : https://www.gov.uk/apply-special-guardian\n",
      "          contents  : ['<h1>What is a special guardian</h1>', '<p>You can apply to be a child’s special guardian when they cannot live with their birth parents and adoption is not right for them.</p>', '<p>You’ll be responsible for looking after the child until they’re 18 (unless the court takes your responsibility away earlier).</p>', '<p>You’ll make all day to day decisions about the child, for example schooling and medical treatment. You do not have to discuss these decisions with the birth parents.</p>', '<p>You’ll need to get the consent of everyone who has parental responsibility for the child before you make some important decisions, for example:</p>', '<li>changing the child’s surname</li>', '<li>putting the child up for adoption</li>', '<li>taking the child abroad for more than 3 months</li>', '<li>the child having surgery for reasons other than improving health, such as circumcision, sterilisation or cosmetic surgery</li>', '<p>If you cannot get consent, you can ask the court to decide. Use the form ‘Make an application in existing court proceedings related to children’ (form C2).</p>', '<h1>Who can apply</h1>', '<p>You can apply to be a child’s special guardian if you’re not their parent and you’re over 18.</p>', '<p>You can make an application with someone else. This is known as a joint claim.</p>', '<p>You and anyone you’re applying with can apply if:</p>', '<li>you’re already the child’s legal guardian</li>', '<li>the child lives with you because of a child arrangements order</li>', '<li>the child has lived with you for 3 of the past 5 years</li>', '<li>you’re the child’s relative or a foster parent, and the child has been living with you for at least 1 year</li>', '<li>you have the agreement of anyone named in a child arrangements order as someone who the child will live with</li>', '<li>you have the agreement of all the people with parental responsibility for the child</li>', '<li>you have the agreement of the local council, if the child is in care</li>', '<p>If you do not fit one of these descriptions, you’ll need to ask the court’s permission to apply. You’ll need to send the following forms to your local family court:</p>', '<li>‘Make an application in existing court proceedings relating to children’ (form C2)</li>', '<li>‘Family mediation and assessment meeting’ (form FM1)</li>', '<h1>Apply</h1>', '<p>You can use a family mediator to help make arrangements with the child’s family to avoid having to apply to the court.</p>', '<p>It costs £215 to apply to the court. You may be able to get help with court fees if you’re on benefits or a low income.</p>', '<h2>Before you apply</h2>', '<p>Three months before you apply to become a special guardian you need to tell your local council in writing that you plan to make an application.</p>', '<p>You also need to tell anyone named in existing court proceedings or orders about the child that you plan to make an application.</p>', '<h2>Applying to the court</h2>', '<p>Fill in these forms and send them to your local family court:</p>', '<li>an ‘Application for an order’ (form C1)</li>', '<li>a supporting statement (form C13A)</li>', '<li>a ‘Family mediation information and assessment meeting’ form (FM1) to show you’ve been through mediation or why you could not go</li>', '<p>Make copies of your completed forms before you send your application to the court. You’ll need to send these copies to each person affected by the application after you apply.</p>', '<p>Find your local family court.</p>', '<h3>If you want to keep your details private</h3>', '<p>You can apply to keep your and the child’s contact details private throughout the court proceedings.</p>', '<p>Fill in ‘Apply to keep your contact details confidential from other parties in family proceedings’ (form C8) and send it with your application.</p>', '<h1>After you apply</h1>', '<p>Within 10 days of receiving your application the court will send you a case number and a date for a meeting to set out:</p>', '<li>a timetable for your case</li>', '<li>how it will be dealt with</li>', '<p>This meeting is called a ‘first directions hearing’.</p>', '<p>You must go to all hearings you’re told to unless the court excuses you. If you’re not able to go, contact the court office.</p>', '<h2>Contact people in the child’s life</h2>', '<p>You must send the date and location of the hearing along with copies of your application to everyone with parental responsibility for the child.</p>', '<p>If there is a current care order about the child, you should also send details of the hearing and copies of your application to:</p>', '<li>everyone you believe had parental responsibility before the current court-made care order</li>', '<li>the court-appointed Cafcass children’s guardian</li>', '<p>You must also tell the following people and organisations that you’ve applied:</p>', '<li>the children’s services department of your local council or the council local to where the child is staying, if that is different</li>', '<li>everyone who cares for the child</li>', '<li>the home where the child stays if it is a registered children’s home or a voluntary home and it is a refuge</li>', '<li>everyone the child has lived with for at least 3 years before you made the application</li>', '<li>anyone else named in a current court order</li>', '<li>anyone involved in any other ongoing proceedings that might be affected by your application</li>', '<h2>The final hearing</h2>', '<p>The court will decide if a special guardianship order is in the best interests of the child after looking at all the evidence, and in some cases, hearing from witnesses.</p>', '<p>If the court agrees, they will send the final order to you and the other people involved in the case, including the birth parents.</p>', '<h2>Financial help for special guardians</h2>', '<p>You might be able to get a special guardian allowance from the children’s services department of your local council.</p>']\n"
     ]
    }
   ],
   "source": [
    "found = False\n",
    "for d in devs:\n",
    "    ans = d['answers']\n",
    "    for a in ans:\n",
    "        if a[0] in {'yes', 'no'} and len(a[1]):\n",
    "            print_case(d)\n",
    "            found = True\n",
    "    if found:\n",
    "        break"
   ]
  },
  {
   "cell_type": "markdown",
   "id": "081ceec6",
   "metadata": {},
   "source": [
    "#### d) extractive question w/o conditions"
   ]
  },
  {
   "cell_type": "code",
   "execution_count": 23,
   "id": "76d82771",
   "metadata": {
    "scrolled": true
   },
   "outputs": [
    {
     "name": "stdout",
     "output_type": "stream",
     "text": [
      "url       : https://www.gov.uk/apply-special-guardian\n",
      "scenario  : My brother and his wife are in prison for carrying out a large fraud scheme. Their 7 and 8 year old children have been living with me for the last 4 years. I want to become their Special Guardian to look after them permanently\n",
      "question  : How long will it be before I hear back from the court?\n",
      "not_answerable: False\n",
      "answers   : [['within 10 days', []]]\n",
      "evidences : ['<p>Within 10 days of receiving your application the court will send you a case number and a date for a meeting to set out:</p>']\n",
      "id        : dev-0\n",
      "document  :\n",
      "          title     : Become a special guardian\n",
      "          url       : https://www.gov.uk/apply-special-guardian\n",
      "          contents  : ['<h1>What is a special guardian</h1>', '<p>You can apply to be a child’s special guardian when they cannot live with their birth parents and adoption is not right for them.</p>', '<p>You’ll be responsible for looking after the child until they’re 18 (unless the court takes your responsibility away earlier).</p>', '<p>You’ll make all day to day decisions about the child, for example schooling and medical treatment. You do not have to discuss these decisions with the birth parents.</p>', '<p>You’ll need to get the consent of everyone who has parental responsibility for the child before you make some important decisions, for example:</p>', '<li>changing the child’s surname</li>', '<li>putting the child up for adoption</li>', '<li>taking the child abroad for more than 3 months</li>', '<li>the child having surgery for reasons other than improving health, such as circumcision, sterilisation or cosmetic surgery</li>', '<p>If you cannot get consent, you can ask the court to decide. Use the form ‘Make an application in existing court proceedings related to children’ (form C2).</p>', '<h1>Who can apply</h1>', '<p>You can apply to be a child’s special guardian if you’re not their parent and you’re over 18.</p>', '<p>You can make an application with someone else. This is known as a joint claim.</p>', '<p>You and anyone you’re applying with can apply if:</p>', '<li>you’re already the child’s legal guardian</li>', '<li>the child lives with you because of a child arrangements order</li>', '<li>the child has lived with you for 3 of the past 5 years</li>', '<li>you’re the child’s relative or a foster parent, and the child has been living with you for at least 1 year</li>', '<li>you have the agreement of anyone named in a child arrangements order as someone who the child will live with</li>', '<li>you have the agreement of all the people with parental responsibility for the child</li>', '<li>you have the agreement of the local council, if the child is in care</li>', '<p>If you do not fit one of these descriptions, you’ll need to ask the court’s permission to apply. You’ll need to send the following forms to your local family court:</p>', '<li>‘Make an application in existing court proceedings relating to children’ (form C2)</li>', '<li>‘Family mediation and assessment meeting’ (form FM1)</li>', '<h1>Apply</h1>', '<p>You can use a family mediator to help make arrangements with the child’s family to avoid having to apply to the court.</p>', '<p>It costs £215 to apply to the court. You may be able to get help with court fees if you’re on benefits or a low income.</p>', '<h2>Before you apply</h2>', '<p>Three months before you apply to become a special guardian you need to tell your local council in writing that you plan to make an application.</p>', '<p>You also need to tell anyone named in existing court proceedings or orders about the child that you plan to make an application.</p>', '<h2>Applying to the court</h2>', '<p>Fill in these forms and send them to your local family court:</p>', '<li>an ‘Application for an order’ (form C1)</li>', '<li>a supporting statement (form C13A)</li>', '<li>a ‘Family mediation information and assessment meeting’ form (FM1) to show you’ve been through mediation or why you could not go</li>', '<p>Make copies of your completed forms before you send your application to the court. You’ll need to send these copies to each person affected by the application after you apply.</p>', '<p>Find your local family court.</p>', '<h3>If you want to keep your details private</h3>', '<p>You can apply to keep your and the child’s contact details private throughout the court proceedings.</p>', '<p>Fill in ‘Apply to keep your contact details confidential from other parties in family proceedings’ (form C8) and send it with your application.</p>', '<h1>After you apply</h1>', '<p>Within 10 days of receiving your application the court will send you a case number and a date for a meeting to set out:</p>', '<li>a timetable for your case</li>', '<li>how it will be dealt with</li>', '<p>This meeting is called a ‘first directions hearing’.</p>', '<p>You must go to all hearings you’re told to unless the court excuses you. If you’re not able to go, contact the court office.</p>', '<h2>Contact people in the child’s life</h2>', '<p>You must send the date and location of the hearing along with copies of your application to everyone with parental responsibility for the child.</p>', '<p>If there is a current care order about the child, you should also send details of the hearing and copies of your application to:</p>', '<li>everyone you believe had parental responsibility before the current court-made care order</li>', '<li>the court-appointed Cafcass children’s guardian</li>', '<p>You must also tell the following people and organisations that you’ve applied:</p>', '<li>the children’s services department of your local council or the council local to where the child is staying, if that is different</li>', '<li>everyone who cares for the child</li>', '<li>the home where the child stays if it is a registered children’s home or a voluntary home and it is a refuge</li>', '<li>everyone the child has lived with for at least 3 years before you made the application</li>', '<li>anyone else named in a current court order</li>', '<li>anyone involved in any other ongoing proceedings that might be affected by your application</li>', '<h2>The final hearing</h2>', '<p>The court will decide if a special guardianship order is in the best interests of the child after looking at all the evidence, and in some cases, hearing from witnesses.</p>', '<p>If the court agrees, they will send the final order to you and the other people involved in the case, including the birth parents.</p>', '<h2>Financial help for special guardians</h2>', '<p>You might be able to get a special guardian allowance from the children’s services department of your local council.</p>']\n"
     ]
    }
   ],
   "source": [
    "found = False\n",
    "for d in devs:\n",
    "    ans, evi = d['answers'], d['evidences']\n",
    "    for e in evi:\n",
    "        for a in ans:\n",
    "            if a[0] not in {'yes', 'no'} and len(a[1]) == 0 and a[0].lower() in e.lower():\n",
    "                print_case(d)\n",
    "                found = True\n",
    "    if found:\n",
    "        break"
   ]
  },
  {
   "cell_type": "markdown",
   "id": "6efcb0e7",
   "metadata": {},
   "source": [
    "#### e) extractive question w/ conditions"
   ]
  },
  {
   "cell_type": "code",
   "execution_count": 24,
   "id": "6b36e919",
   "metadata": {},
   "outputs": [
    {
     "name": "stdout",
     "output_type": "stream",
     "text": [
      "url       : https://www.gov.uk/support-for-foster-parents\n",
      "scenario  : I have completed a training to be an approved foster. I am getting a foster care allowance to help the cost of caring for a child. I get approximatively £12000 per annum\n",
      "question  : What are my tax liability of the money I receive from foster care allowance and are there any tax relaxation ?\n",
      "not_answerable: False\n",
      "answers   : [['in a tax year, households do not pay tax on the first £10,000 they earn from fostering.', []], ['you also get tax relief for every week (or part week) that a child is in your care. this means you do not have to pay tax on some of your earnings over £10,000.', ['<tr>Under 11 | £200 per child</tr>', '<tr>11 or over | £250 per child</tr>']]]\n",
      "evidences : ['<p>In your tax return, you’ll be able to claim:</p>', '<li>a tax exemption of up to £10,000 per household</li>', '<li>tax relief for every week you foster a child</li>', '<p>In a tax year, households do not pay tax on the first £10,000 they earn from fostering. You’ll still pay tax on money you earn from a job or investment.</p>', '<p>On top of the £10,000 exemption, you also get tax relief for every week (or part week) that a child is in your care. This means you do not have to pay tax on some of your earnings over £10,000.</p>', '<tr>Under 11 | £200 per child</tr>', '<tr>11 or over | £250 per child</tr>']\n",
      "id        : dev-12\n",
      "document  :\n",
      "          title     : Help and support for foster parents\n",
      "          url       : https://www.gov.uk/support-for-foster-parents\n",
      "          contents  : ['<h1>Training and development</h1>', '<p>You need to complete the training, support, and development standards workbook within 12 months of being approved to foster.</p>', '<p>Contact your fostering service to find out what other training and development is available. They should help you:</p>', '<li>with a personal development plan</li>', '<li>take part in learning and development sessions</li>', '<p>The Foster Carers’ Charter explains your rights as a foster parent.</p>', '<p>You do not have a statutory right to time off work to care for foster children.</p>', '<p>If you’re fostering for adoption you’ll be entitled to adoption pay and leave from when the child comes to live with you.</p>', '<p>If you’re considering fostering, find out about becoming a foster parent.</p>', '<h1>Help with the cost of fostering</h1>', '<p>All foster parents get a foster care allowance to help cover the cost of caring for a child. You might get additional payments, depending on:</p>', '<li>if the child has specific needs</li>', '<li>how many children you’re fostering</li>', '<li>your skills and experience</li>', '<li>your fostering service</li>', '<p>Contact your fostering service to find out how much you get.</p>', '<h2>Minimum weekly allowance</h2>', '<p>The minimum allowance you’ll get depends on where you live and the age of the child you care for.</p>', '<tr> | Age 0 to 2 | Age 3 to 4 | Age 5 to 10 | Age 11 to 15 | Age 16 to 17</tr>', '<tr>London | £155 | £158 | £177 | £201 | £235</tr>', '<tr>South East | £149 | £153 | £169 | £193 | £226</tr>', '<tr>Rest of England | £134 | £138 | £152 | £173 | £202</tr>', '<p>These figures are for the tax year from 6 April 2021 to 5 April 2022. They’re updated every April.</p>', '<h3>Allowance rates when the child is 18</h3>', '<p>Children stop being in care when they reach 18, even if they’re still living with you. There is no minimum allowance when your child is old enough to leave foster care.</p>', '<p>Contact your fostering service for more information.</p>', '<h2>Expenses</h2>', '<p>You may be able to apply to your fostering service for extra money to help with things like:</p>', '<li>school trips</li>', '<li>holidays</li>', '<li>birthdays</li>', '<li>religious festivals</li>', '<h1>Tax arrangements</h1>', '<p>You should have registered as self-employed when you started to foster. You’ll need to file tax returns. Check with your fostering service what you need to do.</p>', '<p>In your tax return, you’ll be able to claim:</p>', '<li>a tax exemption of up to £10,000 per household</li>', '<li>tax relief for every week you foster a child</li>', '<p>This is known as qualifying care relief.</p>', '<p>You may be entitled to National Insurance credits, which count towards your State Pension.</p>', '<h2>Tax exemption</h2>', '<p>In a tax year, households do not pay tax on the first £10,000 they earn from fostering. You’ll still pay tax on money you earn from a job or investment.</p>', '<h2>Tax relief</h2>', '<p>On top of the £10,000 exemption, you also get tax relief for every week (or part week) that a child is in your care. This means you do not have to pay tax on some of your earnings over £10,000.</p>', '<tr>Age of child | Tax relief</tr>', '<tr>Under 11 | £200 per child</tr>', '<tr>11 or over | £250 per child</tr>', '<h1>Claiming benefits</h1>', '<p>Being a foster parent can affect your benefits. Check a benefits calculator to see what you’re eligible for.</p>', '<p>If you’re claiming benefits you need to tell the organisation that pays you that you’re also getting a foster care allowance.</p>', '<p>You can get disability benefits for your foster child if they meet the criteria. You may also be able to claim Carer’s Allowance if your foster child gets Disability Living Allowance or Personal Independence Payment.</p>', '<p>For more help on how your benefits may change you can speak to an adviser from:</p>', '<li>the organisation that pays you</li>', '<li>Fosterline - a free fostering advice service</li>', '<h1>Making decisions for your foster child</h1>', '<p>Your foster child’s placement plan should tell you what decisions you can make, known as delegated authority.</p>', '<p>There are 3 different levels to delegated authority:</p>', '<li>day-to-day decisions like dental check ups, hair cuts, school trips, parent-teacher meetings and letting your child go to sleepovers</li>', '<li>long-term decisions like which school a child goes to</li>', '<li>significant decisions made by the local authority and birth parents, like surgery</li>', '<p>If your child’s placement plan does not tell you what level of delegated authority you have you should contact your fostering service to find out.</p>', '<p>You may not have the same level of authority for each child you foster. For example, you might foster 2 children and have the right to sign a consent form for one of them.</p>', '<h2>Going on holiday</h2>', '<p>If you do not have the authority to take your foster child on holiday you’ll need to speak to their social worker.</p>', '<p>You’ll also need to:</p>', '<li>tell your child’s social worker when you’ll be going and when you’ll be back</li>', '<li>get a letter of consent from your child’s social worker for passport control (if you’re going abroad)</li>', '<h2>Medical treatment for your foster child</h2>', '<p>You may not have the right to give consent to medical treatment. Check your child placement plan to find out if you have the authority to let your foster child have:</p>', '<li>medication</li>', '<li>a medical examination</li>', '<li>local or general anaesthetic</li>', '<li>surgery</li>', '<h1>Getting support</h1>', '<p>You should get support from your fostering service, your local council and social workers. You can also get support and advice from Fosterline.</p>', '<p>Your local council must provide your foster child with a personal adviser from age 16 or 17 to age 25. They will help your foster child move to independent living or support them to stay with you (this is called a ‘staying put’ arrangement).</p>', '<p>Extra support is available when your foster child reaches age 16, 18 and 21.</p>', '<h2>Support from your fostering service</h2>', '<p>Your foster child gets a placement plan. This tells you about the child and their needs. The fostering service should invite you to meetings on your foster child’s progress and placement plan.</p>', '<p>Your family should get:</p>', '<li>access to an out of hours advice and support service</li>', '<li>access to support groups</li>', '<li>practical, financial and emotional support</li>', '<li>training and a personal development plan, which is reviewed every year</li>', '<li>an opportunity to take a break from fostering if you need it</li>', '<h3>Dealing with allegations</h3>', '<p>If an allegation is made against you or anyone in your home, your local authority must:</p>', '<li>investigate it</li>', '<li>support you through it</li>', '<li>update you on progress</li>', '<li>help resolve any disagreements</li>', '<p>They may remove your foster child from your home or ask the person the allegation is about to leave. They will also look at the safety of any other children in your home.</p>', '<h2>Support from social workers</h2>', '<p>You’ll have contact with 2 social workers:</p>', '<li>your foster child’s social worker - they make sure you meet the child’s needs</li>', '<li>a supervising social worker to help and support you as a foster parent</li>', '<p>Your supervising social worker is there to support you as a foster parent. Contact them if you need:</p>', '<li>emotional support</li>', '<li>to talk about any concerns or worries you have about your foster child</li>', '<li>help to develop your skills as a foster parent</li>', '<p>Your social workers must make sure you understand their policies on fostering, including:</p>', '<li>how to manage your foster child’s behaviour</li>', '<li>financial support for foster parents</li>', '<li>complaints</li>', '<p>They must review your approval to foster at least once a year to make sure you’re still suitable.</p>', '<p>Social workers may decide to have some meetings without you if they think it’s best for the foster child.</p>', '<h3>Social worker visits</h3>', '<p>Your child’s social worker must visit you and your foster child:</p>', '<li>in the first week the child comes to live with you</li>', '<li>once every 6 weeks in the first year</li>', '<li>every 3 to 6 months after the child has lived with you for a year</li>', '<p>They must also visit you once a year without telling you they’re coming.</p>', '<p>You or your foster child can ask for more visits from the social worker.</p>', '<h3>Ending a placement</h3>', '<p>You must give 28 days’ notice to your social worker if you no longer wish to be the child’s foster parent.</p>', '<h2>Support from Fosterline</h2>', '<p>Call Fosterline for free to get advice on fostering.</p>', '<p>They can provide help and advice about fostering, including information about:</p>', '<li>finances</li>', '<li>training</li>', '<li>dealing with allegations</li>']\n"
     ]
    }
   ],
   "source": [
    "found = False\n",
    "for d in devs:\n",
    "    ans, evi = d['answers'], d['evidences']\n",
    "    for e in evi:\n",
    "        for a in ans:\n",
    "            if a[0] not in {'yes', 'no'} and len(a[1]) > 0 and a[0].lower() in e.lower():\n",
    "                print_case(d)\n",
    "                found = True\n",
    "    if found:\n",
    "        break"
   ]
  },
  {
   "cell_type": "markdown",
   "id": "9f7fbceb",
   "metadata": {},
   "source": [
    "#### f) mixture of deterministic and conditionals "
   ]
  },
  {
   "cell_type": "code",
   "execution_count": 25,
   "id": "cdee92f4",
   "metadata": {
    "scrolled": true
   },
   "outputs": [
    {
     "name": "stdout",
     "output_type": "stream",
     "text": [
      "url       : https://www.gov.uk/tax-property-money-shares-you-inherit\n",
      "scenario  : I inherited forty thousand pounds from my late father. I also have savings of around the same amount. I am currently out of work.\n",
      "question  : Do I have to pay inheritance tax on my windfall?\n",
      "not_answerable: False\n",
      "answers   : [['yes', ['<p>The estate of the person who died usually pays Inheritance Tax. You may need to pay Inheritance Tax if the estate can’t or doesn’t pay it.</p>', '<p>You may have to pay Inheritance Tax on money and shares you inherit if the deceased person’s estate can’t or doesn’t pay.</p>']], ['no', []]]\n",
      "evidences : ['<p>You don’t usually pay tax on anything you inherit at the time you inherit it.</p>', '<p>The estate of the person who died usually pays Inheritance Tax. You may need to pay Inheritance Tax if the estate can’t or doesn’t pay it.</p>', '<p>In most cases you don’t pay any tax on money and shares when you inherit them.</p>', '<p>You may have to pay Inheritance Tax on money and shares you inherit if the deceased person’s estate can’t or doesn’t pay.</p>']\n",
      "id        : dev-9\n",
      "document  :\n",
      "          title     : Tax on property, money and shares you inherit\n",
      "          url       : https://www.gov.uk/tax-property-money-shares-you-inherit\n",
      "          contents  : ['<h1>Overview</h1>', '<p>You don’t usually pay tax on anything you inherit at the time you inherit it.</p>', '<p>You may need to pay:</p>', '<li>Income Tax on profit you later earn from your inheritance, eg dividends from shares or rental income from a property</li>', '<li>Capital Gains Tax if you later sell shares or a property you inherited</li>', '<li>Inheritance Tax</li>', '<h2>Inheritance Tax</h2>', '<p>The estate of the person who died usually pays Inheritance Tax. You may need to pay Inheritance Tax if the estate can’t or doesn’t pay it.</p>', '<p>You may need to pay Inheritance Tax on a gift the person gave you in the 7 years before they died.</p>', '<p>You may also need to pay it if your inheritance is put into a trust and the trust can’t or doesn’t pay.</p>', '<p>If the will says the Inheritance Tax should be paid out of the assets you’ve inherited, the executor of the will or administrator of the estate will usually pay it.</p>', '<p>HM Revenue and Customs (HMRC) will contact you if you need to pay.</p>', '<h1>Money and shares</h1>', '<p>In most cases you don’t pay any tax on money and shares when you inherit them.</p>', '<h2>Inheritance Tax</h2>', '<p>You may have to pay Inheritance Tax on money and shares you inherit if the deceased person’s estate can’t or doesn’t pay.</p>', '<p>HM Revenue and Customs (HMRC) will contact you if you need to pay.</p>', '<p>Any money or shares the person gave you before they died are known as gifts and have different rules.</p>', '<h2>Income Tax</h2>', '<p>You may have to pay Income Tax on:</p>', '<li>interest you earn from money you inherit</li>', '<li>dividends paid on shares you inherit</li>', '<h2>Capital Gains Tax</h2>', '<p>You’ll have to pay Capital Gains Tax if you sell (‘dispose of’) inherited shares that have gone up in value since the person died.</p>', '<h1>Property</h1>', '<p>You don’t pay Stamp Duty, Income Tax or Capital Gains Tax on a property you inherit when you inherit it.</p>', '<p>You may have to pay Inheritance Tax if the deceased’s estate can’t or doesn’t pay it.</p>', '<p>HM Revenue and Customs (HMRC) will contact you if you need to pay.</p>', '<p>The rules are different in Scotland.</p>', '<h2>Selling the property</h2>', '<p>You don’t pay Capital Gains Tax when you sell your home. You do pay it if you make a profit when you sell a property that isn’t your main home.</p>', '<p>If inheriting a property means you own 2 homes, you’ll have to nominate one of them as your main home. You must tell HMRC which property is your main home within 2 years of inheriting the property.</p>', '<p>If you don’t tell HMRC and you sell one of the properties, they’ll decide which property was your main home.</p>', '<h2>Renting out the property</h2>', '<p>You may have to pay tax on the rental income.</p>', '<h2>Properties held in trust</h2>', '<p>Usually if you inherit property held in a trust, you are the ‘beneficiary’ and the trustees are the legal owners and responsible for paying tax on income the trust receives.</p>', '<p>You may still have to pay tax on any income you receive from the trust.</p>', '<h3>Bare trusts</h3>', '<p>If the trust is a ‘bare trust’ you are both the beneficiary and the legal owner and are responsible for paying tax on income the trust receives.</p>', '<h1>Joint property, shares and bank accounts</h1>', '<p>In most cases, you don’t have to pay any Stamp Duty or tax when you inherit property, shares or the money in joint bank accounts you owned with the deceased.</p>', '<h2>Inheritance Tax</h2>', '<p>What you pay will depend on how you owned the shares or property or how your bank accounts were set up.</p>', '<p>If you and the deceased jointly owned the assets, you’ll be known as ‘joint tenants’ (‘joint owners’ in Scotland).</p>', '<p>If you each owned a part of the assets, you’ll be known as ‘tenants in common’ (‘common owners’ in Scotland and ‘coparceners’ in Northern Ireland). Each part could be half or an agreed percentage of the money, shares or property.</p>', '<p>Check with your bank if you’re not sure how the money in your account(s) was divided up.</p>', '<h3>Joint tenants</h3>', '<p>You automatically inherit anything you owned as ‘joint tenants’.</p>', '<p>You may have to pay Inheritance Tax if the whole of the deceased’s estate (all their money, property and possessions) is worth more than the Inheritance Tax threshold of £325,000 and the deceased’s estate can’t or doesn’t pay.</p>', '<h3>Tenants in common</h3>', '<p>You may have to pay Inheritance Tax on the deceased’s share of the money in bank accounts, shares or property if the whole of their estate (money, property and possessions) is worth more than the Inheritance Tax threshold of £325,000.</p>', '<p>If the deceased left you their share of the money, shares or property in their will, the executor of the will or administrator of their estate should pay the Inheritance Tax out of the estate.</p>', '<p>But if the estate doesn’t have enough money to pay the Inheritance Tax on the deceased’s share of the assets, or the executor doesn’t pay, you’ll have to pay it. You may have to sell the shares or property to pay the tax and any other debts.</p>', '<p>HM Revenue and Customs (HMRC) will contact you if you need to pay.</p>', '<p>You may have to tell the Land Registry about the death of one of the property’s owners.</p>', '<h2>Income Tax and Capital Gains Tax</h2>', '<p>You may have to pay other taxes on anything you earn or profits you make from:</p>', '<li>bank interest</li>', '<li>share dividends</li>', '<li>property</li>']\n"
     ]
    }
   ],
   "source": [
    "found = False\n",
    "for d in devs:\n",
    "    found_det, found_con = False, False\n",
    "    ans = d['answers']\n",
    "    for a in ans:\n",
    "        if len(a[1]) > 0:\n",
    "            found_con = True\n",
    "        if len(a[1]) == 0:\n",
    "            found_det = True\n",
    "        if found_con and found_det:\n",
    "            found = True\n",
    "            break\n",
    "    if found:\n",
    "        print_case(d)\n",
    "        break"
   ]
  },
  {
   "cell_type": "markdown",
   "id": "e430cbbc",
   "metadata": {},
   "source": [
    "#### g) other generated answers"
   ]
  },
  {
   "cell_type": "code",
   "execution_count": 26,
   "id": "86e986c5",
   "metadata": {},
   "outputs": [],
   "source": [
    "found = False\n",
    "hit = False\n",
    "for d in devs:\n",
    "    ans, evi = d['answers'], d['evidences']\n",
    "    for a in ans:\n",
    "        if a[0] not in {'yes', 'no'}:\n",
    "            for e in evi:\n",
    "                if a[0].lower() in e.lower():\n",
    "                    hit = True\n",
    "            if not hit:\n",
    "                print_case(d)\n",
    "                break\n",
    "    if found:\n",
    "        break"
   ]
  }
 ],
 "metadata": {
  "kernelspec": {
   "display_name": "Python 3",
   "language": "python",
   "name": "python3"
  },
  "language_info": {
   "codemirror_mode": {
    "name": "ipython",
    "version": 3
   },
   "file_extension": ".py",
   "mimetype": "text/x-python",
   "name": "python",
   "nbconvert_exporter": "python",
   "pygments_lexer": "ipython3",
   "version": "3.9.10"
  },
  "vscode": {
   "interpreter": {
    "hash": "b0fa6594d8f4cbf19f97940f81e996739fb7646882a419484c72d19e05852a7e"
   }
  }
 },
 "nbformat": 4,
 "nbformat_minor": 5
}
